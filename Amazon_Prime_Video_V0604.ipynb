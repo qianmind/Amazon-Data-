{
  "nbformat": 4,
  "nbformat_minor": 0,
  "metadata": {
    "colab": {
      "name": "Amazon Prime Video_V0604",
      "provenance": [],
      "collapsed_sections": [],
      "toc_visible": true
    },
    "kernelspec": {
      "name": "python3",
      "display_name": "Python 3"
    }
  },
  "cells": [
    {
      "cell_type": "markdown",
      "metadata": {
        "id": "ryZKiVcB6xhX",
        "colab_type": "text"
      },
      "source": [
        "# Part 0 Problem Background\n",
        "\n",
        "\n",
        "> Amazon offers its prime members free access to Prime Video and recommends certain videos to users based on various features. In this analytics project, the goal is to find out what kinds of movies are more popular on Amazon Prime Video and predict how popular a video would be, measured by cumulated view time per day(Cvt_per_day).   \n",
        "\n",
        "\n"
      ]
    },
    {
      "cell_type": "markdown",
      "metadata": {
        "id": "gT0wzlna7O9m",
        "colab_type": "text"
      },
      "source": [
        "# Part 1 Data Loading"
      ]
    },
    {
      "cell_type": "code",
      "metadata": {
        "id": "laFMYpB4-g7e",
        "colab_type": "code",
        "outputId": "5901024d-6601-4d64-b3c2-ad07d7ebb5c6",
        "colab": {
          "base_uri": "https://localhost:8080/",
          "height": 70
        }
      },
      "source": [
        "#import neccessary libraries\n",
        "import numpy as np\n",
        "import pandas as pd\n",
        "import sklearn as sl\n",
        "import sklearn.preprocessing as preprocessing\n",
        "from sklearn.model_selection import train_test_split\n",
        "import seaborn as sns\n",
        "import matplotlib.pyplot as plt\n",
        "pd.set_option('display.float_format', lambda x: '%.3f' % x)\n",
        "pd.set_option('display.max_columns',None)\n",
        "pd.set_option('display.max_rows',None)\n",
        "pd.set_option('max_colwidth',100)"
      ],
      "execution_count": 1,
      "outputs": [
        {
          "output_type": "stream",
          "text": [
            "/usr/local/lib/python3.6/dist-packages/statsmodels/tools/_testing.py:19: FutureWarning: pandas.util.testing is deprecated. Use the functions in the public API at pandas.testing instead.\n",
            "  import pandas.util.testing as tm\n"
          ],
          "name": "stderr"
        }
      ]
    },
    {
      "cell_type": "code",
      "metadata": {
        "id": "w7vN3y8g-BpQ",
        "colab_type": "code",
        "colab": {}
      },
      "source": [
        "# install pydrive to load data\n",
        "!pip install -U -q PyDrive\n",
        "\n",
        "from pydrive.auth import GoogleAuth\n",
        "from pydrive.drive import GoogleDrive\n",
        "from google.colab import auth\n",
        "from oauth2client.client import GoogleCredentials\n",
        "\n",
        "auth.authenticate_user()\n",
        "gauth = GoogleAuth()\n",
        "gauth.credentials = GoogleCredentials.get_application_default()\n",
        "drive = GoogleDrive(gauth)"
      ],
      "execution_count": 0,
      "outputs": []
    },
    {
      "cell_type": "code",
      "metadata": {
        "id": "VZhG9a3w-Ztk",
        "colab_type": "code",
        "colab": {}
      },
      "source": [
        "link = 'https://drive.google.com/open?id=1hI40okExQduWHxtbfO2hVLBt_8_mLtOq'\n",
        "_, id = link.split('=')\n",
        "file = drive.CreateFile({'id':id}) \n",
        "file.GetContentFile('TVdata.txt') "
      ],
      "execution_count": 0,
      "outputs": []
    },
    {
      "cell_type": "code",
      "metadata": {
        "id": "YAQs7x8A-7Rr",
        "colab_type": "code",
        "outputId": "b1361859-4959-4982-f391-f874e8c25b36",
        "colab": {
          "base_uri": "https://localhost:8080/",
          "height": 283
        }
      },
      "source": [
        "video = pd.read_csv('TVdata.txt',header = 0,sep = ',',lineterminator = '\\n')\n",
        "video.head()"
      ],
      "execution_count": 4,
      "outputs": [
        {
          "output_type": "execute_result",
          "data": {
            "text/html": [
              "<div>\n",
              "<style scoped>\n",
              "    .dataframe tbody tr th:only-of-type {\n",
              "        vertical-align: middle;\n",
              "    }\n",
              "\n",
              "    .dataframe tbody tr th {\n",
              "        vertical-align: top;\n",
              "    }\n",
              "\n",
              "    .dataframe thead th {\n",
              "        text-align: right;\n",
              "    }\n",
              "</style>\n",
              "<table border=\"1\" class=\"dataframe\">\n",
              "  <thead>\n",
              "    <tr style=\"text-align: right;\">\n",
              "      <th></th>\n",
              "      <th>video_id</th>\n",
              "      <th>cvt_per_day</th>\n",
              "      <th>weighted_categorical_position</th>\n",
              "      <th>weighted_horizontal_poition</th>\n",
              "      <th>import_id</th>\n",
              "      <th>release_year</th>\n",
              "      <th>genres</th>\n",
              "      <th>imdb_votes</th>\n",
              "      <th>budget</th>\n",
              "      <th>boxoffice</th>\n",
              "      <th>imdb_rating</th>\n",
              "      <th>duration_in_mins</th>\n",
              "      <th>metacritic_score</th>\n",
              "      <th>awards</th>\n",
              "      <th>mpaa</th>\n",
              "      <th>star_category</th>\n",
              "    </tr>\n",
              "  </thead>\n",
              "  <tbody>\n",
              "    <tr>\n",
              "      <th>0</th>\n",
              "      <td>385504</td>\n",
              "      <td>307127.606</td>\n",
              "      <td>1</td>\n",
              "      <td>3</td>\n",
              "      <td>lionsgate</td>\n",
              "      <td>2013</td>\n",
              "      <td>Action,Thriller,Drama</td>\n",
              "      <td>69614</td>\n",
              "      <td>15000000</td>\n",
              "      <td>42930462</td>\n",
              "      <td>6.500</td>\n",
              "      <td>112.301</td>\n",
              "      <td>51</td>\n",
              "      <td>other award</td>\n",
              "      <td>PG-13</td>\n",
              "      <td>1.710</td>\n",
              "    </tr>\n",
              "    <tr>\n",
              "      <th>1</th>\n",
              "      <td>300175</td>\n",
              "      <td>270338.426</td>\n",
              "      <td>1</td>\n",
              "      <td>3</td>\n",
              "      <td>lionsgate</td>\n",
              "      <td>2013</td>\n",
              "      <td>Comedy,Crime,Thriller</td>\n",
              "      <td>46705</td>\n",
              "      <td>15000000</td>\n",
              "      <td>3301046</td>\n",
              "      <td>6.500</td>\n",
              "      <td>94.983</td>\n",
              "      <td>41</td>\n",
              "      <td>no award</td>\n",
              "      <td>R</td>\n",
              "      <td>3.250</td>\n",
              "    </tr>\n",
              "    <tr>\n",
              "      <th>2</th>\n",
              "      <td>361899</td>\n",
              "      <td>256165.867</td>\n",
              "      <td>1</td>\n",
              "      <td>3</td>\n",
              "      <td>other</td>\n",
              "      <td>2012</td>\n",
              "      <td>Crime,Drama</td>\n",
              "      <td>197596</td>\n",
              "      <td>26000000</td>\n",
              "      <td>37397291</td>\n",
              "      <td>7.300</td>\n",
              "      <td>115.764</td>\n",
              "      <td>58</td>\n",
              "      <td>other award</td>\n",
              "      <td>R</td>\n",
              "      <td>2.647</td>\n",
              "    </tr>\n",
              "    <tr>\n",
              "      <th>3</th>\n",
              "      <td>308314</td>\n",
              "      <td>196622.721</td>\n",
              "      <td>3</td>\n",
              "      <td>4</td>\n",
              "      <td>lionsgate</td>\n",
              "      <td>2008</td>\n",
              "      <td>Thriller,Drama,War,Documentary,Mystery,Action</td>\n",
              "      <td>356339</td>\n",
              "      <td>15000000</td>\n",
              "      <td>15700000</td>\n",
              "      <td>7.600</td>\n",
              "      <td>130.704</td>\n",
              "      <td>94</td>\n",
              "      <td>Oscar</td>\n",
              "      <td>R</td>\n",
              "      <td>1.667</td>\n",
              "    </tr>\n",
              "    <tr>\n",
              "      <th>4</th>\n",
              "      <td>307201</td>\n",
              "      <td>159841.652</td>\n",
              "      <td>1</td>\n",
              "      <td>3</td>\n",
              "      <td>lionsgate</td>\n",
              "      <td>2013</td>\n",
              "      <td>Crime,Thriller,Mystery,Documentary</td>\n",
              "      <td>46720</td>\n",
              "      <td>27220000</td>\n",
              "      <td>8551228</td>\n",
              "      <td>6.400</td>\n",
              "      <td>105.546</td>\n",
              "      <td>37</td>\n",
              "      <td>other award</td>\n",
              "      <td>R</td>\n",
              "      <td>3.067</td>\n",
              "    </tr>\n",
              "  </tbody>\n",
              "</table>\n",
              "</div>"
            ],
            "text/plain": [
              "   video_id  cvt_per_day  weighted_categorical_position  \\\n",
              "0    385504   307127.606                              1   \n",
              "1    300175   270338.426                              1   \n",
              "2    361899   256165.867                              1   \n",
              "3    308314   196622.721                              3   \n",
              "4    307201   159841.652                              1   \n",
              "\n",
              "   weighted_horizontal_poition  import_id  release_year  \\\n",
              "0                            3  lionsgate          2013   \n",
              "1                            3  lionsgate          2013   \n",
              "2                            3      other          2012   \n",
              "3                            4  lionsgate          2008   \n",
              "4                            3  lionsgate          2013   \n",
              "\n",
              "                                          genres  imdb_votes    budget  \\\n",
              "0                          Action,Thriller,Drama       69614  15000000   \n",
              "1                          Comedy,Crime,Thriller       46705  15000000   \n",
              "2                                    Crime,Drama      197596  26000000   \n",
              "3  Thriller,Drama,War,Documentary,Mystery,Action      356339  15000000   \n",
              "4             Crime,Thriller,Mystery,Documentary       46720  27220000   \n",
              "\n",
              "   boxoffice  imdb_rating  duration_in_mins  metacritic_score       awards  \\\n",
              "0   42930462        6.500           112.301                51  other award   \n",
              "1    3301046        6.500            94.983                41     no award   \n",
              "2   37397291        7.300           115.764                58  other award   \n",
              "3   15700000        7.600           130.704                94        Oscar   \n",
              "4    8551228        6.400           105.546                37  other award   \n",
              "\n",
              "    mpaa  star_category  \n",
              "0  PG-13          1.710  \n",
              "1      R          3.250  \n",
              "2      R          2.647  \n",
              "3      R          1.667  \n",
              "4      R          3.067  "
            ]
          },
          "metadata": {
            "tags": []
          },
          "execution_count": 4
        }
      ]
    },
    {
      "cell_type": "code",
      "metadata": {
        "id": "IadkWvJ6-6mC",
        "colab_type": "code",
        "outputId": "b9df4ac4-80da-4099-db8c-bf90e4ecd0f9",
        "colab": {
          "base_uri": "https://localhost:8080/",
          "height": 100
        }
      },
      "source": [
        "video.columns"
      ],
      "execution_count": 5,
      "outputs": [
        {
          "output_type": "execute_result",
          "data": {
            "text/plain": [
              "Index(['video_id', 'cvt_per_day', 'weighted_categorical_position',\n",
              "       'weighted_horizontal_poition', 'import_id', 'release_year', 'genres',\n",
              "       'imdb_votes', 'budget', 'boxoffice', 'imdb_rating', 'duration_in_mins',\n",
              "       'metacritic_score', 'awards', 'mpaa', 'star_category'],\n",
              "      dtype='object')"
            ]
          },
          "metadata": {
            "tags": []
          },
          "execution_count": 5
        }
      ]
    },
    {
      "cell_type": "code",
      "metadata": {
        "id": "ZoUpRzyLdmp2",
        "colab_type": "code",
        "outputId": "783672c4-9fe8-445b-ee7b-b65bf34cd07c",
        "colab": {
          "base_uri": "https://localhost:8080/",
          "height": 33
        }
      },
      "source": [
        "video.shape"
      ],
      "execution_count": 6,
      "outputs": [
        {
          "output_type": "execute_result",
          "data": {
            "text/plain": [
              "(4226, 16)"
            ]
          },
          "metadata": {
            "tags": []
          },
          "execution_count": 6
        }
      ]
    },
    {
      "cell_type": "markdown",
      "metadata": {
        "id": "JWzwFzV392R8",
        "colab_type": "text"
      },
      "source": [
        "### Data Set Description\n",
        "There are total 4,226 rows and 16 columns in the dataset. Detailed descriptions are as follows:"
      ]
    },
    {
      "cell_type": "markdown",
      "metadata": {
        "id": "TbaXpCH29Sca",
        "colab_type": "text"
      },
      "source": [
        "Prime Video Data | Description\n",
        "--- | ---\n",
        "video_id\t|A unique id for a movie.\n",
        "cvt_per_day\t|Cumulated view time per day\n",
        "weighted_categorical_position |\tAverage vertical positions on the home page that the movie was placed\n",
        "weighted_horizontal_position |\tAverage horizontal positions on the home page that the movie was placed\n",
        "import_id |\tContent partners\n",
        "release_year |\tYear when the movie was released\n",
        "genres | Genres of the movie\n",
        "imdb_votes | The number of votes on IMDB\n",
        "budget | Movie production budget\n",
        "boxoffice | Gross box office in the US according to IMDB \n",
        "imdb_rating | Ratings on IMDB\n",
        "duration_in_mins | How long is the content in minutes\n",
        "metacritic_score | Metacritic score on IMDB page(hight the better)\n",
        "awards | TVPG ratings \n",
        "mpaa | MPAA ratings \n",
        "star_category | A score to measure how popular the casting members  are "
      ]
    },
    {
      "cell_type": "markdown",
      "metadata": {
        "id": "X0KzKkD8HO1v",
        "colab_type": "text"
      },
      "source": [
        "# Part 2 Exploratory Analysis"
      ]
    },
    {
      "cell_type": "markdown",
      "metadata": {
        "id": "Sb5XBY7sXAHN",
        "colab_type": "text"
      },
      "source": [
        "## 2.1 Missing Value Detection"
      ]
    },
    {
      "cell_type": "code",
      "metadata": {
        "id": "OSEcPcrPSY2N",
        "colab_type": "code",
        "outputId": "d67c73f7-dd9f-44cf-e64a-39f4db533ebc",
        "colab": {
          "base_uri": "https://localhost:8080/",
          "height": 301
        }
      },
      "source": [
        "#check missing values\n",
        "video.isnull().sum()"
      ],
      "execution_count": 7,
      "outputs": [
        {
          "output_type": "execute_result",
          "data": {
            "text/plain": [
              "video_id                         0\n",
              "cvt_per_day                      0\n",
              "weighted_categorical_position    0\n",
              "weighted_horizontal_poition      0\n",
              "import_id                        0\n",
              "release_year                     0\n",
              "genres                           0\n",
              "imdb_votes                       0\n",
              "budget                           0\n",
              "boxoffice                        0\n",
              "imdb_rating                      0\n",
              "duration_in_mins                 0\n",
              "metacritic_score                 0\n",
              "awards                           0\n",
              "mpaa                             0\n",
              "star_category                    0\n",
              "dtype: int64"
            ]
          },
          "metadata": {
            "tags": []
          },
          "execution_count": 7
        }
      ]
    },
    {
      "cell_type": "code",
      "metadata": {
        "id": "bWKZN5dy4Tra",
        "colab_type": "code",
        "outputId": "9edafa32-4a3f-4492-99bf-f47c37c26215",
        "colab": {
          "base_uri": "https://localhost:8080/",
          "height": 306
        }
      },
      "source": [
        "# statistics summary on numerical features\n",
        "video.drop(columns = ['video_id','release_year']).describe()"
      ],
      "execution_count": 8,
      "outputs": [
        {
          "output_type": "execute_result",
          "data": {
            "text/html": [
              "<div>\n",
              "<style scoped>\n",
              "    .dataframe tbody tr th:only-of-type {\n",
              "        vertical-align: middle;\n",
              "    }\n",
              "\n",
              "    .dataframe tbody tr th {\n",
              "        vertical-align: top;\n",
              "    }\n",
              "\n",
              "    .dataframe thead th {\n",
              "        text-align: right;\n",
              "    }\n",
              "</style>\n",
              "<table border=\"1\" class=\"dataframe\">\n",
              "  <thead>\n",
              "    <tr style=\"text-align: right;\">\n",
              "      <th></th>\n",
              "      <th>cvt_per_day</th>\n",
              "      <th>weighted_categorical_position</th>\n",
              "      <th>weighted_horizontal_poition</th>\n",
              "      <th>imdb_votes</th>\n",
              "      <th>budget</th>\n",
              "      <th>boxoffice</th>\n",
              "      <th>imdb_rating</th>\n",
              "      <th>duration_in_mins</th>\n",
              "      <th>metacritic_score</th>\n",
              "      <th>star_category</th>\n",
              "    </tr>\n",
              "  </thead>\n",
              "  <tbody>\n",
              "    <tr>\n",
              "      <th>count</th>\n",
              "      <td>4226.000</td>\n",
              "      <td>4226.000</td>\n",
              "      <td>4226.000</td>\n",
              "      <td>4226.000</td>\n",
              "      <td>4226.000</td>\n",
              "      <td>4226.000</td>\n",
              "      <td>4226.000</td>\n",
              "      <td>4226.000</td>\n",
              "      <td>4226.000</td>\n",
              "      <td>4226.000</td>\n",
              "    </tr>\n",
              "    <tr>\n",
              "      <th>mean</th>\n",
              "      <td>4218.630</td>\n",
              "      <td>7.783</td>\n",
              "      <td>28.104</td>\n",
              "      <td>6462.924</td>\n",
              "      <td>2150743.439</td>\n",
              "      <td>2536338.472</td>\n",
              "      <td>5.257</td>\n",
              "      <td>89.556</td>\n",
              "      <td>15.974</td>\n",
              "      <td>0.955</td>\n",
              "    </tr>\n",
              "    <tr>\n",
              "      <th>std</th>\n",
              "      <td>13036.080</td>\n",
              "      <td>6.134</td>\n",
              "      <td>11.864</td>\n",
              "      <td>31596.007</td>\n",
              "      <td>7176604.483</td>\n",
              "      <td>8243516.266</td>\n",
              "      <td>2.123</td>\n",
              "      <td>21.086</td>\n",
              "      <td>26.205</td>\n",
              "      <td>0.955</td>\n",
              "    </tr>\n",
              "    <tr>\n",
              "      <th>min</th>\n",
              "      <td>2.188</td>\n",
              "      <td>1.000</td>\n",
              "      <td>1.000</td>\n",
              "      <td>0.000</td>\n",
              "      <td>0.000</td>\n",
              "      <td>0.000</td>\n",
              "      <td>0.000</td>\n",
              "      <td>4.037</td>\n",
              "      <td>0.000</td>\n",
              "      <td>0.000</td>\n",
              "    </tr>\n",
              "    <tr>\n",
              "      <th>25%</th>\n",
              "      <td>351.169</td>\n",
              "      <td>4.000</td>\n",
              "      <td>20.000</td>\n",
              "      <td>81.000</td>\n",
              "      <td>0.000</td>\n",
              "      <td>0.000</td>\n",
              "      <td>4.300</td>\n",
              "      <td>82.602</td>\n",
              "      <td>0.000</td>\n",
              "      <td>0.000</td>\n",
              "    </tr>\n",
              "    <tr>\n",
              "      <th>50%</th>\n",
              "      <td>1193.500</td>\n",
              "      <td>6.000</td>\n",
              "      <td>28.000</td>\n",
              "      <td>535.000</td>\n",
              "      <td>0.000</td>\n",
              "      <td>0.000</td>\n",
              "      <td>5.800</td>\n",
              "      <td>90.730</td>\n",
              "      <td>0.000</td>\n",
              "      <td>1.000</td>\n",
              "    </tr>\n",
              "    <tr>\n",
              "      <th>75%</th>\n",
              "      <td>3356.789</td>\n",
              "      <td>9.000</td>\n",
              "      <td>36.000</td>\n",
              "      <td>3053.000</td>\n",
              "      <td>1500000.000</td>\n",
              "      <td>0.000</td>\n",
              "      <td>6.800</td>\n",
              "      <td>99.500</td>\n",
              "      <td>41.000</td>\n",
              "      <td>1.667</td>\n",
              "    </tr>\n",
              "    <tr>\n",
              "      <th>max</th>\n",
              "      <td>307127.606</td>\n",
              "      <td>41.000</td>\n",
              "      <td>70.000</td>\n",
              "      <td>948630.000</td>\n",
              "      <td>107000000.000</td>\n",
              "      <td>184208848.000</td>\n",
              "      <td>10.000</td>\n",
              "      <td>246.017</td>\n",
              "      <td>100.000</td>\n",
              "      <td>4.000</td>\n",
              "    </tr>\n",
              "  </tbody>\n",
              "</table>\n",
              "</div>"
            ],
            "text/plain": [
              "       cvt_per_day  weighted_categorical_position  \\\n",
              "count     4226.000                       4226.000   \n",
              "mean      4218.630                          7.783   \n",
              "std      13036.080                          6.134   \n",
              "min          2.188                          1.000   \n",
              "25%        351.169                          4.000   \n",
              "50%       1193.500                          6.000   \n",
              "75%       3356.789                          9.000   \n",
              "max     307127.606                         41.000   \n",
              "\n",
              "       weighted_horizontal_poition  imdb_votes        budget     boxoffice  \\\n",
              "count                     4226.000    4226.000      4226.000      4226.000   \n",
              "mean                        28.104    6462.924   2150743.439   2536338.472   \n",
              "std                         11.864   31596.007   7176604.483   8243516.266   \n",
              "min                          1.000       0.000         0.000         0.000   \n",
              "25%                         20.000      81.000         0.000         0.000   \n",
              "50%                         28.000     535.000         0.000         0.000   \n",
              "75%                         36.000    3053.000   1500000.000         0.000   \n",
              "max                         70.000  948630.000 107000000.000 184208848.000   \n",
              "\n",
              "       imdb_rating  duration_in_mins  metacritic_score  star_category  \n",
              "count     4226.000          4226.000          4226.000       4226.000  \n",
              "mean         5.257            89.556            15.974          0.955  \n",
              "std          2.123            21.086            26.205          0.955  \n",
              "min          0.000             4.037             0.000          0.000  \n",
              "25%          4.300            82.602             0.000          0.000  \n",
              "50%          5.800            90.730             0.000          1.000  \n",
              "75%          6.800            99.500            41.000          1.667  \n",
              "max         10.000           246.017           100.000          4.000  "
            ]
          },
          "metadata": {
            "tags": []
          },
          "execution_count": 8
        }
      ]
    },
    {
      "cell_type": "code",
      "metadata": {
        "id": "kN07GyKRVCHF",
        "colab_type": "code",
        "outputId": "3095c5f1-6b5d-4d67-b8f5-519cf15a3868",
        "colab": {
          "base_uri": "https://localhost:8080/",
          "height": 301
        }
      },
      "source": [
        "zero_percent = pd.Series((video == 0).sum(axis = 0)/video.shape[0])\n",
        "zero_percent.sort_values(ascending = True)"
      ],
      "execution_count": 9,
      "outputs": [
        {
          "output_type": "execute_result",
          "data": {
            "text/plain": [
              "video_id                        0.000\n",
              "cvt_per_day                     0.000\n",
              "weighted_categorical_position   0.000\n",
              "weighted_horizontal_poition     0.000\n",
              "import_id                       0.000\n",
              "release_year                    0.000\n",
              "genres                          0.000\n",
              "duration_in_mins                0.000\n",
              "awards                          0.000\n",
              "mpaa                            0.000\n",
              "imdb_votes                      0.081\n",
              "imdb_rating                     0.081\n",
              "star_category                   0.437\n",
              "budget                          0.581\n",
              "metacritic_score                0.713\n",
              "boxoffice                       0.756\n",
              "dtype: float64"
            ]
          },
          "metadata": {
            "tags": []
          },
          "execution_count": 9
        }
      ]
    },
    {
      "cell_type": "markdown",
      "metadata": {
        "id": "4y1RLc-FMOya",
        "colab_type": "text"
      },
      "source": [
        "  From the statistics summary, we can conclude that there are some abnormalities in budget, boxoffice,metacritic_score and star_category, which around 50% or more are ZEROs.Against the common sense, it could be due to the missing values during data collection phase."
      ]
    },
    {
      "cell_type": "markdown",
      "metadata": {
        "id": "_Nm_kUYxYJpL",
        "colab_type": "text"
      },
      "source": [
        "## 2.2 Distribution of Target Variable"
      ]
    },
    {
      "cell_type": "code",
      "metadata": {
        "id": "KXNL5EzoJlrW",
        "colab_type": "code",
        "outputId": "61d1ce6d-6660-4094-8d74-edfb4fc0a19d",
        "colab": {
          "base_uri": "https://localhost:8080/",
          "height": 296
        }
      },
      "source": [
        "\n",
        "plt.hist(video['cvt_per_day'],bins=range(0,15000,30),color='b',label='cvt_per_day',density=True,alpha=0.5)\n",
        "plt.title('Distribution of cvt_per_day')\n",
        "plt.legend(loc='upper right')\n",
        "plt.xlabel('cvt_per_day')\n",
        "plt.ylabel('density')\n",
        "plt.show()"
      ],
      "execution_count": 10,
      "outputs": [
        {
          "output_type": "display_data",
          "data": {
            "image/png": "[encoded data removed]",
            "text/plain": [
              "<Figure size 432x288 with 1 Axes>"
            ]
          },
          "metadata": {
            "tags": [],
            "needs_background": "light"
          }
        }
      ]
    },
    {
      "cell_type": "markdown",
      "metadata": {
        "id": "9CiCgJVOYtnw",
        "colab_type": "text"
      },
      "source": [
        "## 2.3 Correlation among numerical features"
      ]
    },
    {
      "cell_type": "code",
      "metadata": {
        "id": "zI3brC0yX1Xy",
        "colab_type": "code",
        "outputId": "cc393d2d-d990-4b43-c1e4-1383d5ca1d79",
        "colab": {
          "base_uri": "https://localhost:8080/",
          "height": 428
        }
      },
      "source": [
        "# correlation \n",
        "numerical_cols = video.drop(columns='video_id',).select_dtypes([np.number])\n",
        "corr_score = numerical_cols.corr()\n",
        "sns.heatmap(corr_score,robust=False, center=1)"
      ],
      "execution_count": 11,
      "outputs": [
        {
          "output_type": "execute_result",
          "data": {
            "text/plain": [
              "<matplotlib.axes._subplots.AxesSubplot at 0x7f95bed23160>"
            ]
          },
          "metadata": {
            "tags": []
          },
          "execution_count": 11
        },
        {
          "output_type": "display_data",
          "data": {
            "image/png": "[encoded data removed]",
            "text/plain": [
              "<Figure size 432x288 with 2 Axes>"
            ]
          },
          "metadata": {
            "tags": [],
            "needs_background": "light"
          }
        }
      ]
    },
    {
      "cell_type": "markdown",
      "metadata": {
        "id": "_RnB-k0mbUAi",
        "colab_type": "text"
      },
      "source": [
        "Intuitively, heatmaps tell us the linear relationship between pair-wise features, darker the color, higher the correlation.For example, cvt_per_day is more closely related to budget, boxoffice and imdb_votes than other features. Also, these three features are highly correlated to each other as well."
      ]
    },
    {
      "cell_type": "markdown",
      "metadata": {
        "id": "naOYwUQ6c_Un",
        "colab_type": "text"
      },
      "source": [
        "## 2.4 Understand the categorical features"
      ]
    },
    {
      "cell_type": "code",
      "metadata": {
        "id": "5-z8Ae9RZOtY",
        "colab_type": "code",
        "outputId": "a5bcce57-8ee6-48b9-e35c-3e871a1d7268",
        "colab": {
          "base_uri": "https://localhost:8080/",
          "height": 1000
        }
      },
      "source": [
        "sns.catplot(x='awards',y='cvt_per_day',data=video)\n",
        "print(video['awards'].value_counts()/video.shape[0])\n",
        "sns.catplot(x='mpaa',y='cvt_per_day',data=video)\n",
        "print(video['mpaa'].value_counts()/video.shape[0])\n",
        "sns.catplot(x='import_id',y='cvt_per_day',data=video)\n",
        "print(video['import_id'].value_counts()/video.shape[0])"
      ],
      "execution_count": 12,
      "outputs": [
        {
          "output_type": "stream",
          "text": [
            "no award       0.608\n",
            "other award    0.344\n",
            "Oscar          0.033\n",
            "Golden Globe   0.010\n",
            "BAFTA          0.004\n",
            "Name: awards, dtype: float64\n",
            "NotRated   0.511\n",
            "R          0.274\n",
            "PG-13      0.101\n",
            "PG         0.084\n",
            "G          0.030\n",
            "NC-17      0.001\n",
            "Name: mpaa, dtype: float64\n",
            "other       0.701\n",
            "lionsgate   0.160\n",
            "mgm         0.105\n",
            "paramount   0.033\n",
            "Name: import_id, dtype: float64\n"
          ],
          "name": "stdout"
        },
        {
          "output_type": "display_data",
          "data": {
            "image/png": "[encoded data removed]",
            "text/plain": [
              "<Figure size 360x360 with 1 Axes>"
            ]
          },
          "metadata": {
            "tags": [],
            "needs_background": "light"
          }
        },
        {
          "output_type": "display_data",
          "data": {
            "image/png": "[encoded data removed]",
            "text/plain": [
              "<Figure size 360x360 with 1 Axes>"
            ]
          },
          "metadata": {
            "tags": [],
            "needs_background": "light"
          }
        },
        {
          "output_type": "display_data",
          "data": {
            "image/png": "[encoded data removed]",
            "text/plain": [
              "<Figure size 360x360 with 1 Axes>"
            ]
          },
          "metadata": {
            "tags": [],
            "needs_background": "light"
          }
        }
      ]
    },
    {
      "cell_type": "markdown",
      "metadata": {
        "id": "TV8aV_4cerEh",
        "colab_type": "text"
      },
      "source": [
        "This data vizulization outcome provides us some direct insights about chracteristics of the movies on Amazon Prime.\n",
        "\n",
        "*   It seems that awards does not guarantee higher cvt_per_day \n",
        "*   R-rated and PG-13 are watched more than other ratings, which is possibly related to Amazon's target customer demographics.\n",
        "* Among all the proudction companies, Amazon works closer with Lionsgate and licenses 16% of total videos to them.  \n",
        "\n",
        "\n"
      ]
    },
    {
      "cell_type": "code",
      "metadata": {
        "id": "wioRwvjfpIb8",
        "colab_type": "code",
        "outputId": "ff74399a-d2cd-487c-81a7-6a60c15ed09f",
        "colab": {
          "base_uri": "https://localhost:8080/",
          "height": 862
        }
      },
      "source": [
        "#seperate generes \n",
        "gen_split = video['genres'].str.get_dummies(sep=',').sum()\n",
        "print('Number of distinct genres: ', (gen_split.shape[0]))\n",
        "print(gen_split)\n",
        "\n",
        "gen_split.sort_values(ascending=False).plot.bar()"
      ],
      "execution_count": 13,
      "outputs": [
        {
          "output_type": "stream",
          "text": [
            "Number of distinct genres:  27\n",
            "Action                    739\n",
            "Adult                       3\n",
            "Adventure                 363\n",
            "Animation                 129\n",
            "Anime                      11\n",
            "Comedy                   1184\n",
            "Crime                     437\n",
            "Documentary               671\n",
            "Drama                    1677\n",
            "Fantasy                   243\n",
            "Foreign/International      64\n",
            "Holiday                     1\n",
            "Horror                    762\n",
            "Independent               393\n",
            "Kids & Family             280\n",
            "LGBT                        2\n",
            "Lifestyle                   7\n",
            "Music                     171\n",
            "Musicals                   68\n",
            "Mystery                   375\n",
            "Reality                     9\n",
            "Romance                   591\n",
            "Sci-Fi                    363\n",
            "Sport                      77\n",
            "Thriller                  879\n",
            "War                       102\n",
            "Western                   102\n",
            "dtype: int64\n"
          ],
          "name": "stdout"
        },
        {
          "output_type": "execute_result",
          "data": {
            "text/plain": [
              "<matplotlib.axes._subplots.AxesSubplot at 0x7f95be8be898>"
            ]
          },
          "metadata": {
            "tags": []
          },
          "execution_count": 13
        },
        {
          "output_type": "display_data",
          "data": {
            "image/png": "[encoded data removed]",
            "text/plain": [
              "<Figure size 432x288 with 1 Axes>"
            ]
          },
          "metadata": {
            "tags": [],
            "needs_background": "light"
          }
        }
      ]
    },
    {
      "cell_type": "code",
      "metadata": {
        "id": "li56PM3Gp7kp",
        "colab_type": "code",
        "outputId": "e70fc708-a70f-4a82-b054-ade0db81cc1e",
        "colab": {
          "base_uri": "https://localhost:8080/",
          "height": 296
        }
      },
      "source": [
        "plt.hist(video['release_year'].values, bins = range(1910, 2017, 5), alpha = 0.5, color='b', label = 'release_year')\n",
        "plt.legend(loc ='upper left')\n",
        "plt.title('Historgrams of release_year')\n",
        "plt.xlabel('release_year')\n",
        "plt.ylabel('Count')\n",
        "plt.show()"
      ],
      "execution_count": 14,
      "outputs": [
        {
          "output_type": "display_data",
          "data": {
            "image/png": "[encoded data removed]",
            "text/plain": [
              "<Figure size 432x288 with 1 Axes>"
            ]
          },
          "metadata": {
            "tags": [],
            "needs_background": "light"
          }
        }
      ]
    },
    {
      "cell_type": "code",
      "metadata": {
        "id": "CGFDn97wdV1D",
        "colab_type": "code",
        "colab": {}
      },
      "source": [
        "# newvideo = pd.concat([video,video['genres'].str.split(',',expand=True)],axis=1)\n",
        "# newvideo.loc[:,~newvideo.columns.duplicated()]\n",
        "# newvideo.shape\n",
        "# newvideo.columns"
      ],
      "execution_count": 0,
      "outputs": []
    },
    {
      "cell_type": "markdown",
      "metadata": {
        "id": "2PF8DSdef4T-",
        "colab_type": "text"
      },
      "source": [
        "# Part 3 Feature Preprocessing"
      ]
    },
    {
      "cell_type": "markdown",
      "metadata": {
        "id": "kzVPeZnIupVK",
        "colab_type": "text"
      },
      "source": [
        "### 3.1 Categorical Feature Encoding"
      ]
    },
    {
      "cell_type": "code",
      "metadata": {
        "id": "o5OR8YWPgDTB",
        "colab_type": "code",
        "colab": {}
      },
      "source": [
        "#encode first part of categorical features\n",
        "categorical1 = ['import_id','awards','mpaa']\n",
        "d_categorical1 = pd.get_dummies(video[categorical1],drop_first=True).astype(np.int64)"
      ],
      "execution_count": 0,
      "outputs": []
    },
    {
      "cell_type": "code",
      "metadata": {
        "id": "RTc3xhtass5l",
        "colab_type": "code",
        "colab": {}
      },
      "source": [
        "# Convert 'genres' into dummy variables\n",
        "d_genres=video['genres'].str.get_dummies(sep=',').astype(np.int64)\n",
        "d_genres['Misc_genres']=d_genres['Anime']|d_genres['Reality']|d_genres['Lifestyle']|d_genres['Adult']|d_genres['LGBT']|d_genres['Holiday']\n",
        "d_genres.drop(['Anime', 'Reality','Lifestyle', 'Adult','LGBT','Holiday'], inplace=True, axis=1)"
      ],
      "execution_count": 0,
      "outputs": []
    },
    {
      "cell_type": "code",
      "metadata": {
        "id": "HATp0Lc7tIqV",
        "colab_type": "code",
        "colab": {}
      },
      "source": [
        "# bin release_year and convert into dummies\n",
        "bin_year = [1916, 1974, 1991, 2001, 2006, 2008, 2010, 2012, 2013, 2014, 2017]\n",
        "year_range = ['1916-1974', '1974-1991', '1991-2001', '2001-2006','2006-2008','2008-2010','2010-2012','2012-2013',\n",
        "              '2013-2014','2014-2017']\n",
        "year_bin = pd.cut(video['release_year'], bin_year, labels=year_range)\n",
        "d_year = pd.get_dummies(year_bin).astype(np.int64)"
      ],
      "execution_count": 0,
      "outputs": []
    },
    {
      "cell_type": "code",
      "metadata": {
        "id": "y9Eb1v4BomJt",
        "colab_type": "code",
        "colab": {}
      },
      "source": [
        "#create new dataframe with processed features\n",
        "video_1 = video.drop(['import_id','awards','mpaa','genres','release_year'], axis =1)\n",
        "video_2 = pd.concat([video_1, d_categorical1, d_genres, d_year], axis=1)"
      ],
      "execution_count": 0,
      "outputs": []
    },
    {
      "cell_type": "code",
      "metadata": {
        "id": "HkSxTR2vtuAT",
        "colab_type": "code",
        "colab": {
          "base_uri": "https://localhost:8080/",
          "height": 1000
        },
        "outputId": "e90e6b75-357c-47e3-d9d3-d02e35b4816e"
      },
      "source": [
        "print(video_2.head())"
      ],
      "execution_count": 27,
      "outputs": [
        {
          "output_type": "stream",
          "text": [
            "   video_id  cvt_per_day  weighted_categorical_position  \\\n",
            "0    385504   307127.606                              1   \n",
            "1    300175   270338.426                              1   \n",
            "2    361899   256165.867                              1   \n",
            "3    308314   196622.721                              3   \n",
            "4    307201   159841.652                              1   \n",
            "\n",
            "   weighted_horizontal_poition  imdb_votes    budget  boxoffice  imdb_rating  \\\n",
            "0                            3       69614  15000000   42930462        6.500   \n",
            "1                            3       46705  15000000    3301046        6.500   \n",
            "2                            3      197596  26000000   37397291        7.300   \n",
            "3                            4      356339  15000000   15700000        7.600   \n",
            "4                            3       46720  27220000    8551228        6.400   \n",
            "\n",
            "   duration_in_mins  metacritic_score  star_category  import_id_mgm  \\\n",
            "0           112.301                51          1.710              0   \n",
            "1            94.983                41          3.250              0   \n",
            "2           115.764                58          2.647              0   \n",
            "3           130.704                94          1.667              0   \n",
            "4           105.546                37          3.067              0   \n",
            "\n",
            "   import_id_other  import_id_paramount  awards_Golden Globe  awards_Oscar  \\\n",
            "0                0                    0                    0             0   \n",
            "1                0                    0                    0             0   \n",
            "2                1                    0                    0             0   \n",
            "3                0                    0                    0             1   \n",
            "4                0                    0                    0             0   \n",
            "\n",
            "   awards_no award  awards_other award  mpaa_NC-17  mpaa_NotRated  mpaa_PG  \\\n",
            "0                0                   1           0              0        0   \n",
            "1                1                   0           0              0        0   \n",
            "2                0                   1           0              0        0   \n",
            "3                0                   0           0              0        0   \n",
            "4                0                   1           0              0        0   \n",
            "\n",
            "   mpaa_PG-13  mpaa_R  Action  Adventure  Animation  Comedy  Crime  \\\n",
            "0           1       0       1          0          0       0      0   \n",
            "1           0       1       0          0          0       1      1   \n",
            "2           0       1       0          0          0       0      1   \n",
            "3           0       1       1          0          0       0      0   \n",
            "4           0       1       0          0          0       0      1   \n",
            "\n",
            "   Documentary  Drama  Fantasy  Foreign/International  Horror  Independent  \\\n",
            "0            0      1        0                      0       0            0   \n",
            "1            0      0        0                      0       0            0   \n",
            "2            0      1        0                      0       0            0   \n",
            "3            1      1        0                      0       0            0   \n",
            "4            1      0        0                      0       0            0   \n",
            "\n",
            "   Kids & Family  Music  Musicals  Mystery  Romance  Sci-Fi  Sport  Thriller  \\\n",
            "0              0      0         0        0        0       0      0         1   \n",
            "1              0      0         0        0        0       0      0         1   \n",
            "2              0      0         0        0        0       0      0         0   \n",
            "3              0      0         0        1        0       0      0         1   \n",
            "4              0      0         0        1        0       0      0         1   \n",
            "\n",
            "   War  Western  Misc_genres  1916-1974  1974-1991  1991-2001  2001-2006  \\\n",
            "0    0        0            0          0          0          0          0   \n",
            "1    0        0            0          0          0          0          0   \n",
            "2    0        0            0          0          0          0          0   \n",
            "3    1        0            0          0          0          0          0   \n",
            "4    0        0            0          0          0          0          0   \n",
            "\n",
            "   2006-2008  2008-2010  2010-2012  2012-2013  2013-2014  2014-2017  \n",
            "0          0          0          0          1          0          0  \n",
            "1          0          0          0          1          0          0  \n",
            "2          0          0          1          0          0          0  \n",
            "3          1          0          0          0          0          0  \n",
            "4          0          0          0          1          0          0  \n"
          ],
          "name": "stdout"
        }
      ]
    },
    {
      "cell_type": "markdown",
      "metadata": {
        "id": "mrkuGIMnu4-Y",
        "colab_type": "text"
      },
      "source": [
        "### 3.2 Missing Value Imputation"
      ]
    },
    {
      "cell_type": "markdown",
      "metadata": {
        "id": "GpYPZOJ7wCWb",
        "colab_type": "text"
      },
      "source": [
        "#### From the results of EDA, there are six features containg missing values.\n",
        "Feature | Missing Value Percentage\n",
        "--- | ---\n",
        "imdb_votes\t|0.081\n",
        "imdb_rating  |0.081\n",
        "star_category |0.437\n",
        "budget     |0.581\n",
        "metacritic_score|0.713\n",
        "boxoffice   |0.756"
      ]
    },
    {
      "cell_type": "code",
      "metadata": {
        "id": "-RAf12dZyUtT",
        "colab_type": "code",
        "colab": {}
      },
      "source": [
        "video_3 = video_2.copy()"
      ],
      "execution_count": 0,
      "outputs": []
    },
    {
      "cell_type": "code",
      "metadata": {
        "id": "jMigZypBuf_d",
        "colab_type": "code",
        "colab": {}
      },
      "source": [
        "# #mark value 0 as nan \n",
        "from numpy import nan\n",
        "null_features = ['imdb_votes','budget','boxoffice','imdb_rating','star_category','metacritic_score']\n",
        "video_3[null_features] = video_3[null_features].replace(0,nan) "
      ],
      "execution_count": 0,
      "outputs": []
    },
    {
      "cell_type": "code",
      "metadata": {
        "id": "t5WaNLsuyis8",
        "colab_type": "code",
        "colab": {}
      },
      "source": [
        "from sklearn.impute import SimpleImputer\n",
        "imputer = SimpleImputer(missing_values=nan,strategy='mean')\n",
        "video_3[null_features] = imputer.fit_transform(video_3[null_features])"
      ],
      "execution_count": 0,
      "outputs": []
    },
    {
      "cell_type": "code",
      "metadata": {
        "id": "wkHOCvs0y2Hf",
        "colab_type": "code",
        "colab": {
          "base_uri": "https://localhost:8080/",
          "height": 1000
        },
        "outputId": "dda78d5e-b256-4d5a-ecef-bd6c430125bc"
      },
      "source": [
        "video_3.info()"
      ],
      "execution_count": 32,
      "outputs": [
        {
          "output_type": "stream",
          "text": [
            "<class 'pandas.core.frame.DataFrame'>\n",
            "RangeIndex: 4226 entries, 0 to 4225\n",
            "Data columns (total 55 columns):\n",
            " #   Column                         Non-Null Count  Dtype  \n",
            "---  ------                         --------------  -----  \n",
            " 0   video_id                       4226 non-null   int64  \n",
            " 1   cvt_per_day                    4226 non-null   float64\n",
            " 2   weighted_categorical_position  4226 non-null   int64  \n",
            " 3   weighted_horizontal_poition    4226 non-null   int64  \n",
            " 4   imdb_votes                     4226 non-null   float64\n",
            " 5   budget                         4226 non-null   float64\n",
            " 6   boxoffice                      4226 non-null   float64\n",
            " 7   imdb_rating                    4226 non-null   float64\n",
            " 8   duration_in_mins               4226 non-null   float64\n",
            " 9   metacritic_score               4226 non-null   float64\n",
            " 10  star_category                  4226 non-null   float64\n",
            " 11  import_id_mgm                  4226 non-null   int64  \n",
            " 12  import_id_other                4226 non-null   int64  \n",
            " 13  import_id_paramount            4226 non-null   int64  \n",
            " 14  awards_Golden Globe            4226 non-null   int64  \n",
            " 15  awards_Oscar                   4226 non-null   int64  \n",
            " 16  awards_no award                4226 non-null   int64  \n",
            " 17  awards_other award             4226 non-null   int64  \n",
            " 18  mpaa_NC-17                     4226 non-null   int64  \n",
            " 19  mpaa_NotRated                  4226 non-null   int64  \n",
            " 20  mpaa_PG                        4226 non-null   int64  \n",
            " 21  mpaa_PG-13                     4226 non-null   int64  \n",
            " 22  mpaa_R                         4226 non-null   int64  \n",
            " 23  Action                         4226 non-null   int64  \n",
            " 24  Adventure                      4226 non-null   int64  \n",
            " 25  Animation                      4226 non-null   int64  \n",
            " 26  Comedy                         4226 non-null   int64  \n",
            " 27  Crime                          4226 non-null   int64  \n",
            " 28  Documentary                    4226 non-null   int64  \n",
            " 29  Drama                          4226 non-null   int64  \n",
            " 30  Fantasy                        4226 non-null   int64  \n",
            " 31  Foreign/International          4226 non-null   int64  \n",
            " 32  Horror                         4226 non-null   int64  \n",
            " 33  Independent                    4226 non-null   int64  \n",
            " 34  Kids & Family                  4226 non-null   int64  \n",
            " 35  Music                          4226 non-null   int64  \n",
            " 36  Musicals                       4226 non-null   int64  \n",
            " 37  Mystery                        4226 non-null   int64  \n",
            " 38  Romance                        4226 non-null   int64  \n",
            " 39  Sci-Fi                         4226 non-null   int64  \n",
            " 40  Sport                          4226 non-null   int64  \n",
            " 41  Thriller                       4226 non-null   int64  \n",
            " 42  War                            4226 non-null   int64  \n",
            " 43  Western                        4226 non-null   int64  \n",
            " 44  Misc_genres                    4226 non-null   int64  \n",
            " 45  1916-1974                      4226 non-null   int64  \n",
            " 46  1974-1991                      4226 non-null   int64  \n",
            " 47  1991-2001                      4226 non-null   int64  \n",
            " 48  2001-2006                      4226 non-null   int64  \n",
            " 49  2006-2008                      4226 non-null   int64  \n",
            " 50  2008-2010                      4226 non-null   int64  \n",
            " 51  2010-2012                      4226 non-null   int64  \n",
            " 52  2012-2013                      4226 non-null   int64  \n",
            " 53  2013-2014                      4226 non-null   int64  \n",
            " 54  2014-2017                      4226 non-null   int64  \n",
            "dtypes: float64(8), int64(47)\n",
            "memory usage: 1.8 MB\n"
          ],
          "name": "stdout"
        }
      ]
    },
    {
      "cell_type": "markdown",
      "metadata": {
        "id": "n_xA6T70ztbw",
        "colab_type": "text"
      },
      "source": [
        "### 3.3 Feature Scaling"
      ]
    },
    {
      "cell_type": "markdown",
      "metadata": {
        "id": "N07HNgMy01y_",
        "colab_type": "text"
      },
      "source": [
        "Before training the model, we need to normalize numerical features to eliminate the impact of scales on modeling training results."
      ]
    },
    {
      "cell_type": "code",
      "metadata": {
        "id": "-kJLUnCey4dl",
        "colab_type": "code",
        "colab": {
          "base_uri": "https://localhost:8080/",
          "height": 233
        },
        "outputId": "e51fe9b6-1dc6-4804-f9a7-8f764e281bac"
      },
      "source": [
        "scale_features = ['weighted_categorical_position','weighted_horizontal_poition','budget','boxoffice', \n",
        "          'imdb_votes','imdb_rating','duration_in_mins', 'metacritic_score']\n",
        "new_video = video_3.copy()\n",
        "\n",
        "sc_scale = preprocessing.StandardScaler().fit(new_video[scale_features])\n",
        "\n",
        "\n",
        "new_video[scale_features] = sc_scale.transform(new_video[scale_features])\n",
        "new_video.head()"
      ],
      "execution_count": 36,
      "outputs": [
        {
          "output_type": "execute_result",
          "data": {
            "text/html": [
              "<div>\n",
              "<style scoped>\n",
              "    .dataframe tbody tr th:only-of-type {\n",
              "        vertical-align: middle;\n",
              "    }\n",
              "\n",
              "    .dataframe tbody tr th {\n",
              "        vertical-align: top;\n",
              "    }\n",
              "\n",
              "    .dataframe thead th {\n",
              "        text-align: right;\n",
              "    }\n",
              "</style>\n",
              "<table border=\"1\" class=\"dataframe\">\n",
              "  <thead>\n",
              "    <tr style=\"text-align: right;\">\n",
              "      <th></th>\n",
              "      <th>video_id</th>\n",
              "      <th>cvt_per_day</th>\n",
              "      <th>weighted_categorical_position</th>\n",
              "      <th>weighted_horizontal_poition</th>\n",
              "      <th>imdb_votes</th>\n",
              "      <th>budget</th>\n",
              "      <th>boxoffice</th>\n",
              "      <th>imdb_rating</th>\n",
              "      <th>duration_in_mins</th>\n",
              "      <th>metacritic_score</th>\n",
              "      <th>star_category</th>\n",
              "      <th>import_id_mgm</th>\n",
              "      <th>import_id_other</th>\n",
              "      <th>import_id_paramount</th>\n",
              "      <th>awards_Golden Globe</th>\n",
              "      <th>awards_Oscar</th>\n",
              "      <th>awards_no award</th>\n",
              "      <th>awards_other award</th>\n",
              "      <th>mpaa_NC-17</th>\n",
              "      <th>mpaa_NotRated</th>\n",
              "      <th>mpaa_PG</th>\n",
              "      <th>mpaa_PG-13</th>\n",
              "      <th>mpaa_R</th>\n",
              "      <th>Action</th>\n",
              "      <th>Adventure</th>\n",
              "      <th>Animation</th>\n",
              "      <th>Comedy</th>\n",
              "      <th>Crime</th>\n",
              "      <th>Documentary</th>\n",
              "      <th>Drama</th>\n",
              "      <th>Fantasy</th>\n",
              "      <th>Foreign/International</th>\n",
              "      <th>Horror</th>\n",
              "      <th>Independent</th>\n",
              "      <th>Kids &amp; Family</th>\n",
              "      <th>Music</th>\n",
              "      <th>Musicals</th>\n",
              "      <th>Mystery</th>\n",
              "      <th>Romance</th>\n",
              "      <th>Sci-Fi</th>\n",
              "      <th>Sport</th>\n",
              "      <th>Thriller</th>\n",
              "      <th>War</th>\n",
              "      <th>Western</th>\n",
              "      <th>Misc_genres</th>\n",
              "      <th>1916-1974</th>\n",
              "      <th>1974-1991</th>\n",
              "      <th>1991-2001</th>\n",
              "      <th>2001-2006</th>\n",
              "      <th>2006-2008</th>\n",
              "      <th>2008-2010</th>\n",
              "      <th>2010-2012</th>\n",
              "      <th>2012-2013</th>\n",
              "      <th>2013-2014</th>\n",
              "      <th>2014-2017</th>\n",
              "    </tr>\n",
              "  </thead>\n",
              "  <tbody>\n",
              "    <tr>\n",
              "      <th>0</th>\n",
              "      <td>385504</td>\n",
              "      <td>307127.606</td>\n",
              "      <td>-1.106</td>\n",
              "      <td>-2.116</td>\n",
              "      <td>1.984</td>\n",
              "      <td>1.470</td>\n",
              "      <td>4.696</td>\n",
              "      <td>0.542</td>\n",
              "      <td>1.079</td>\n",
              "      <td>-0.630</td>\n",
              "      <td>1.710</td>\n",
              "      <td>0</td>\n",
              "      <td>0</td>\n",
              "      <td>0</td>\n",
              "      <td>0</td>\n",
              "      <td>0</td>\n",
              "      <td>0</td>\n",
              "      <td>1</td>\n",
              "      <td>0</td>\n",
              "      <td>0</td>\n",
              "      <td>0</td>\n",
              "      <td>1</td>\n",
              "      <td>0</td>\n",
              "      <td>1</td>\n",
              "      <td>0</td>\n",
              "      <td>0</td>\n",
              "      <td>0</td>\n",
              "      <td>0</td>\n",
              "      <td>0</td>\n",
              "      <td>1</td>\n",
              "      <td>0</td>\n",
              "      <td>0</td>\n",
              "      <td>0</td>\n",
              "      <td>0</td>\n",
              "      <td>0</td>\n",
              "      <td>0</td>\n",
              "      <td>0</td>\n",
              "      <td>0</td>\n",
              "      <td>0</td>\n",
              "      <td>0</td>\n",
              "      <td>0</td>\n",
              "      <td>1</td>\n",
              "      <td>0</td>\n",
              "      <td>0</td>\n",
              "      <td>0</td>\n",
              "      <td>0</td>\n",
              "      <td>0</td>\n",
              "      <td>0</td>\n",
              "      <td>0</td>\n",
              "      <td>0</td>\n",
              "      <td>0</td>\n",
              "      <td>0</td>\n",
              "      <td>1</td>\n",
              "      <td>0</td>\n",
              "      <td>0</td>\n",
              "    </tr>\n",
              "    <tr>\n",
              "      <th>1</th>\n",
              "      <td>300175</td>\n",
              "      <td>270338.426</td>\n",
              "      <td>-1.106</td>\n",
              "      <td>-2.116</td>\n",
              "      <td>1.258</td>\n",
              "      <td>1.470</td>\n",
              "      <td>-1.022</td>\n",
              "      <td>0.542</td>\n",
              "      <td>0.257</td>\n",
              "      <td>-1.997</td>\n",
              "      <td>3.250</td>\n",
              "      <td>0</td>\n",
              "      <td>0</td>\n",
              "      <td>0</td>\n",
              "      <td>0</td>\n",
              "      <td>0</td>\n",
              "      <td>1</td>\n",
              "      <td>0</td>\n",
              "      <td>0</td>\n",
              "      <td>0</td>\n",
              "      <td>0</td>\n",
              "      <td>0</td>\n",
              "      <td>1</td>\n",
              "      <td>0</td>\n",
              "      <td>0</td>\n",
              "      <td>0</td>\n",
              "      <td>1</td>\n",
              "      <td>1</td>\n",
              "      <td>0</td>\n",
              "      <td>0</td>\n",
              "      <td>0</td>\n",
              "      <td>0</td>\n",
              "      <td>0</td>\n",
              "      <td>0</td>\n",
              "      <td>0</td>\n",
              "      <td>0</td>\n",
              "      <td>0</td>\n",
              "      <td>0</td>\n",
              "      <td>0</td>\n",
              "      <td>0</td>\n",
              "      <td>0</td>\n",
              "      <td>1</td>\n",
              "      <td>0</td>\n",
              "      <td>0</td>\n",
              "      <td>0</td>\n",
              "      <td>0</td>\n",
              "      <td>0</td>\n",
              "      <td>0</td>\n",
              "      <td>0</td>\n",
              "      <td>0</td>\n",
              "      <td>0</td>\n",
              "      <td>0</td>\n",
              "      <td>1</td>\n",
              "      <td>0</td>\n",
              "      <td>0</td>\n",
              "    </tr>\n",
              "    <tr>\n",
              "      <th>2</th>\n",
              "      <td>361899</td>\n",
              "      <td>256165.867</td>\n",
              "      <td>-1.106</td>\n",
              "      <td>-2.116</td>\n",
              "      <td>6.043</td>\n",
              "      <td>3.108</td>\n",
              "      <td>3.898</td>\n",
              "      <td>1.100</td>\n",
              "      <td>1.243</td>\n",
              "      <td>0.327</td>\n",
              "      <td>2.647</td>\n",
              "      <td>0</td>\n",
              "      <td>1</td>\n",
              "      <td>0</td>\n",
              "      <td>0</td>\n",
              "      <td>0</td>\n",
              "      <td>0</td>\n",
              "      <td>1</td>\n",
              "      <td>0</td>\n",
              "      <td>0</td>\n",
              "      <td>0</td>\n",
              "      <td>0</td>\n",
              "      <td>1</td>\n",
              "      <td>0</td>\n",
              "      <td>0</td>\n",
              "      <td>0</td>\n",
              "      <td>0</td>\n",
              "      <td>1</td>\n",
              "      <td>0</td>\n",
              "      <td>1</td>\n",
              "      <td>0</td>\n",
              "      <td>0</td>\n",
              "      <td>0</td>\n",
              "      <td>0</td>\n",
              "      <td>0</td>\n",
              "      <td>0</td>\n",
              "      <td>0</td>\n",
              "      <td>0</td>\n",
              "      <td>0</td>\n",
              "      <td>0</td>\n",
              "      <td>0</td>\n",
              "      <td>0</td>\n",
              "      <td>0</td>\n",
              "      <td>0</td>\n",
              "      <td>0</td>\n",
              "      <td>0</td>\n",
              "      <td>0</td>\n",
              "      <td>0</td>\n",
              "      <td>0</td>\n",
              "      <td>0</td>\n",
              "      <td>0</td>\n",
              "      <td>1</td>\n",
              "      <td>0</td>\n",
              "      <td>0</td>\n",
              "      <td>0</td>\n",
              "    </tr>\n",
              "    <tr>\n",
              "      <th>3</th>\n",
              "      <td>308314</td>\n",
              "      <td>196622.721</td>\n",
              "      <td>-0.780</td>\n",
              "      <td>-2.032</td>\n",
              "      <td>11.077</td>\n",
              "      <td>1.470</td>\n",
              "      <td>0.767</td>\n",
              "      <td>1.309</td>\n",
              "      <td>1.952</td>\n",
              "      <td>5.250</td>\n",
              "      <td>1.667</td>\n",
              "      <td>0</td>\n",
              "      <td>0</td>\n",
              "      <td>0</td>\n",
              "      <td>0</td>\n",
              "      <td>1</td>\n",
              "      <td>0</td>\n",
              "      <td>0</td>\n",
              "      <td>0</td>\n",
              "      <td>0</td>\n",
              "      <td>0</td>\n",
              "      <td>0</td>\n",
              "      <td>1</td>\n",
              "      <td>1</td>\n",
              "      <td>0</td>\n",
              "      <td>0</td>\n",
              "      <td>0</td>\n",
              "      <td>0</td>\n",
              "      <td>1</td>\n",
              "      <td>1</td>\n",
              "      <td>0</td>\n",
              "      <td>0</td>\n",
              "      <td>0</td>\n",
              "      <td>0</td>\n",
              "      <td>0</td>\n",
              "      <td>0</td>\n",
              "      <td>0</td>\n",
              "      <td>1</td>\n",
              "      <td>0</td>\n",
              "      <td>0</td>\n",
              "      <td>0</td>\n",
              "      <td>1</td>\n",
              "      <td>1</td>\n",
              "      <td>0</td>\n",
              "      <td>0</td>\n",
              "      <td>0</td>\n",
              "      <td>0</td>\n",
              "      <td>0</td>\n",
              "      <td>0</td>\n",
              "      <td>1</td>\n",
              "      <td>0</td>\n",
              "      <td>0</td>\n",
              "      <td>0</td>\n",
              "      <td>0</td>\n",
              "      <td>0</td>\n",
              "    </tr>\n",
              "    <tr>\n",
              "      <th>4</th>\n",
              "      <td>307201</td>\n",
              "      <td>159841.652</td>\n",
              "      <td>-1.106</td>\n",
              "      <td>-2.116</td>\n",
              "      <td>1.258</td>\n",
              "      <td>3.290</td>\n",
              "      <td>-0.265</td>\n",
              "      <td>0.472</td>\n",
              "      <td>0.758</td>\n",
              "      <td>-2.544</td>\n",
              "      <td>3.067</td>\n",
              "      <td>0</td>\n",
              "      <td>0</td>\n",
              "      <td>0</td>\n",
              "      <td>0</td>\n",
              "      <td>0</td>\n",
              "      <td>0</td>\n",
              "      <td>1</td>\n",
              "      <td>0</td>\n",
              "      <td>0</td>\n",
              "      <td>0</td>\n",
              "      <td>0</td>\n",
              "      <td>1</td>\n",
              "      <td>0</td>\n",
              "      <td>0</td>\n",
              "      <td>0</td>\n",
              "      <td>0</td>\n",
              "      <td>1</td>\n",
              "      <td>1</td>\n",
              "      <td>0</td>\n",
              "      <td>0</td>\n",
              "      <td>0</td>\n",
              "      <td>0</td>\n",
              "      <td>0</td>\n",
              "      <td>0</td>\n",
              "      <td>0</td>\n",
              "      <td>0</td>\n",
              "      <td>1</td>\n",
              "      <td>0</td>\n",
              "      <td>0</td>\n",
              "      <td>0</td>\n",
              "      <td>1</td>\n",
              "      <td>0</td>\n",
              "      <td>0</td>\n",
              "      <td>0</td>\n",
              "      <td>0</td>\n",
              "      <td>0</td>\n",
              "      <td>0</td>\n",
              "      <td>0</td>\n",
              "      <td>0</td>\n",
              "      <td>0</td>\n",
              "      <td>0</td>\n",
              "      <td>1</td>\n",
              "      <td>0</td>\n",
              "      <td>0</td>\n",
              "    </tr>\n",
              "  </tbody>\n",
              "</table>\n",
              "</div>"
            ],
            "text/plain": [
              "   video_id  cvt_per_day  weighted_categorical_position  \\\n",
              "0    385504   307127.606                         -1.106   \n",
              "1    300175   270338.426                         -1.106   \n",
              "2    361899   256165.867                         -1.106   \n",
              "3    308314   196622.721                         -0.780   \n",
              "4    307201   159841.652                         -1.106   \n",
              "\n",
              "   weighted_horizontal_poition  imdb_votes  budget  boxoffice  imdb_rating  \\\n",
              "0                       -2.116       1.984   1.470      4.696        0.542   \n",
              "1                       -2.116       1.258   1.470     -1.022        0.542   \n",
              "2                       -2.116       6.043   3.108      3.898        1.100   \n",
              "3                       -2.032      11.077   1.470      0.767        1.309   \n",
              "4                       -2.116       1.258   3.290     -0.265        0.472   \n",
              "\n",
              "   duration_in_mins  metacritic_score  star_category  import_id_mgm  \\\n",
              "0             1.079            -0.630          1.710              0   \n",
              "1             0.257            -1.997          3.250              0   \n",
              "2             1.243             0.327          2.647              0   \n",
              "3             1.952             5.250          1.667              0   \n",
              "4             0.758            -2.544          3.067              0   \n",
              "\n",
              "   import_id_other  import_id_paramount  awards_Golden Globe  awards_Oscar  \\\n",
              "0                0                    0                    0             0   \n",
              "1                0                    0                    0             0   \n",
              "2                1                    0                    0             0   \n",
              "3                0                    0                    0             1   \n",
              "4                0                    0                    0             0   \n",
              "\n",
              "   awards_no award  awards_other award  mpaa_NC-17  mpaa_NotRated  mpaa_PG  \\\n",
              "0                0                   1           0              0        0   \n",
              "1                1                   0           0              0        0   \n",
              "2                0                   1           0              0        0   \n",
              "3                0                   0           0              0        0   \n",
              "4                0                   1           0              0        0   \n",
              "\n",
              "   mpaa_PG-13  mpaa_R  Action  Adventure  Animation  Comedy  Crime  \\\n",
              "0           1       0       1          0          0       0      0   \n",
              "1           0       1       0          0          0       1      1   \n",
              "2           0       1       0          0          0       0      1   \n",
              "3           0       1       1          0          0       0      0   \n",
              "4           0       1       0          0          0       0      1   \n",
              "\n",
              "   Documentary  Drama  Fantasy  Foreign/International  Horror  Independent  \\\n",
              "0            0      1        0                      0       0            0   \n",
              "1            0      0        0                      0       0            0   \n",
              "2            0      1        0                      0       0            0   \n",
              "3            1      1        0                      0       0            0   \n",
              "4            1      0        0                      0       0            0   \n",
              "\n",
              "   Kids & Family  Music  Musicals  Mystery  Romance  Sci-Fi  Sport  Thriller  \\\n",
              "0              0      0         0        0        0       0      0         1   \n",
              "1              0      0         0        0        0       0      0         1   \n",
              "2              0      0         0        0        0       0      0         0   \n",
              "3              0      0         0        1        0       0      0         1   \n",
              "4              0      0         0        1        0       0      0         1   \n",
              "\n",
              "   War  Western  Misc_genres  1916-1974  1974-1991  1991-2001  2001-2006  \\\n",
              "0    0        0            0          0          0          0          0   \n",
              "1    0        0            0          0          0          0          0   \n",
              "2    0        0            0          0          0          0          0   \n",
              "3    1        0            0          0          0          0          0   \n",
              "4    0        0            0          0          0          0          0   \n",
              "\n",
              "   2006-2008  2008-2010  2010-2012  2012-2013  2013-2014  2014-2017  \n",
              "0          0          0          0          1          0          0  \n",
              "1          0          0          0          1          0          0  \n",
              "2          0          0          1          0          0          0  \n",
              "3          1          0          0          0          0          0  \n",
              "4          0          0          0          1          0          0  "
            ]
          },
          "metadata": {
            "tags": []
          },
          "execution_count": 36
        }
      ]
    },
    {
      "cell_type": "markdown",
      "metadata": {
        "id": "Z0FKBOyb2dOl",
        "colab_type": "text"
      },
      "source": [
        "# Part 4 Modeling Training"
      ]
    },
    {
      "cell_type": "markdown",
      "metadata": {
        "id": "sqqybPkD3LBS",
        "colab_type": "text"
      },
      "source": [
        "### 4.1 Ranmdoly split 80% as training and 20% as testing data"
      ]
    },
    {
      "cell_type": "code",
      "metadata": {
        "id": "ahV2OuJO2cw3",
        "colab_type": "code",
        "colab": {}
      },
      "source": [
        "train, test = train_test_split(new_video, test_size=0.20, random_state = 3)\n",
        "model_train_x = train.drop(['cvt_per_day'], axis = 1)\n",
        "model_test_x = test.drop(['cvt_per_day'], axis = 1)\n",
        "model_train_y = train['cvt_per_day']\n",
        "model_test_y = test['cvt_per_day']"
      ],
      "execution_count": 0,
      "outputs": []
    },
    {
      "cell_type": "code",
      "metadata": {
        "id": "HclMkkDG0tuM",
        "colab_type": "code",
        "colab": {
          "base_uri": "https://localhost:8080/",
          "height": 50
        },
        "outputId": "6689909e-da73-4219-9542-3ac339000ccf"
      },
      "source": [
        "print('training data has ' + str(model_train_x.shape[0]) + ' observation with ' + str(model_train_x.shape[1]) + ' features')\n",
        "print('test data has ' + str(model_test_x.shape[0]) + ' observation with ' + str(model_test_x.shape[1]) + ' features')"
      ],
      "execution_count": 39,
      "outputs": [
        {
          "output_type": "stream",
          "text": [
            "training data has 3380 observation with 54 features\n",
            "test data has 846 observation with 54 features\n"
          ],
          "name": "stdout"
        }
      ]
    },
    {
      "cell_type": "markdown",
      "metadata": {
        "id": "gLZEr7H_4XW4",
        "colab_type": "text"
      },
      "source": [
        "### 4.2 Lasso Linear Regression"
      ]
    },
    {
      "cell_type": "code",
      "metadata": {
        "id": "zNMJDIda4X8_",
        "colab_type": "code",
        "colab": {}
      },
      "source": [
        "from sklearn.linear_model import LinearRegression, Lasso, Ridge\n",
        "from sklearn.metrics import mean_squared_error, r2_score\n",
        "from math import sqrt"
      ],
      "execution_count": 0,
      "outputs": []
    },
    {
      "cell_type": "code",
      "metadata": {
        "id": "UNOim6Ni4Z7B",
        "colab_type": "code",
        "colab": {}
      },
      "source": [
        "lr_train, lr_validate = train_test_split(train, test_size = 0.25, random_state = 0)\n",
        "lr_train_x = lr_train.drop(['cvt_per_day'],axis = 1)\n",
        "lr_validate_x = lr_validate.drop(['cvt_per_day'],axis = 1)\n",
        "lr_train_y = lr_train['cvt_per_day']\n",
        "lr_validate_y = lr_validate['cvt_per_day']\n",
        "\n",
        "alphas = np.logspace(-0.3, 2.5, num=150) #lambda \n",
        "scores = np.empty_like(alphas) \n",
        "opt_a = float('-inf')\n",
        "max_score = float('-inf')\n",
        "for i, a in enumerate(alphas):\n",
        "  lasso = Lasso()\n",
        "  lasso.set_params(alpha = a)\n",
        "  lasso.fit(lr_train_x, lr_train_y)\n",
        "  scores[i] = lasso.score(lr_validate_x, lr_validate_y) \n",
        "  if scores[i] > max_score:\n",
        "    max_score = scores[i]\n",
        "    opt_a = a\n",
        "    lasso_save = lasso"
      ],
      "execution_count": 0,
      "outputs": []
    },
    {
      "cell_type": "code",
      "metadata": {
        "id": "acLVVtxs4cqO",
        "colab_type": "code",
        "colab": {
          "base_uri": "https://localhost:8080/",
          "height": 329
        },
        "outputId": "1af56538-46f0-45b6-e0df-59eb62ae206c"
      },
      "source": [
        "plt.plot(alphas, scores, color='b', linestyle='dashed',marker='o',markerfacecolor = 'blue',markersize =6)\n",
        "plt.xlabel('alpha')\n",
        "plt.ylabel('score')\n",
        "plt.grid(True)\n",
        "plt.title('scores for each alpha')\n",
        "plt.show()\n",
        "model1_para = opt_a\n",
        "print ('The optimaized alpha and score of Lasso linear is: '), opt_a, max_score"
      ],
      "execution_count": 43,
      "outputs": [
        {
          "output_type": "display_data",
          "data": {
            "image/png": "[encoded data removed]",
            "text/plain": [
              "<Figure size 432x288 with 1 Axes>"
            ]
          },
          "metadata": {
            "tags": [],
            "needs_background": "light"
          }
        },
        {
          "output_type": "stream",
          "text": [
            "The optimaized alpha and score of Lasso linear is: \n"
          ],
          "name": "stdout"
        },
        {
          "output_type": "execute_result",
          "data": {
            "text/plain": [
              "(None, 254.70664095751977, 0.21730132161189364)"
            ]
          },
          "metadata": {
            "tags": []
          },
          "execution_count": 43
        }
      ]
    },
    {
      "cell_type": "code",
      "metadata": {
        "id": "HJDReVZt4ldG",
        "colab_type": "code",
        "colab": {
          "base_uri": "https://localhost:8080/",
          "height": 67
        },
        "outputId": "897a2a44-6572-4eea-9059-a4f1ee67e89e"
      },
      "source": [
        "# combine the validate data and training data, use the optimal alpha, re-train the model\n",
        "lasso_f = Lasso()\n",
        "lasso_f.set_params(alpha = opt_a)\n",
        "lasso_f.fit(model_train_x, model_train_y)"
      ],
      "execution_count": 44,
      "outputs": [
        {
          "output_type": "execute_result",
          "data": {
            "text/plain": [
              "Lasso(alpha=254.70664095751977, copy_X=True, fit_intercept=True, max_iter=1000,\n",
              "      normalize=False, positive=False, precompute=False, random_state=None,\n",
              "      selection='cyclic', tol=0.0001, warm_start=False)"
            ]
          },
          "metadata": {
            "tags": []
          },
          "execution_count": 44
        }
      ]
    },
    {
      "cell_type": "markdown",
      "metadata": {
        "id": "UstB5tin44bP",
        "colab_type": "text"
      },
      "source": [
        "## 4.3 Ridge linear regression"
      ]
    },
    {
      "cell_type": "code",
      "metadata": {
        "id": "tr5IpAwl44AW",
        "colab_type": "code",
        "colab": {
          "base_uri": "https://localhost:8080/",
          "height": 329
        },
        "outputId": "6d59daa9-d25d-4551-ec91-b558509889a1"
      },
      "source": [
        "# Use the same training data set as Lasso (linear features)\n",
        "lr_train, lr_validate = train_test_split(train, test_size=0.15, random_state = 0)\n",
        "\n",
        "alphas = np.logspace (-10, 3, num=150)\n",
        "# alphas= [0.000000001]\n",
        "scores = np.empty_like(alphas)\n",
        "opt_a = float('-inf')\n",
        "max_score = float('-inf')\n",
        "for i, a in enumerate(alphas):\n",
        "    ridge = Ridge()\n",
        "    ridge.set_params(alpha = a)\n",
        "    ridge.fit(lr_train_x, lr_train_y)\n",
        "    scores[i] = ridge.score(lr_validate_x, lr_validate_y)\n",
        "    if scores[i] > max_score:\n",
        "        max_score = scores[i]\n",
        "        opt_a = a\n",
        "        ridge_save = ridge\n",
        "plt.plot(alphas, scores, color='r', linestyle='dashed', marker='o',markerfacecolor='r', markersize=6)\n",
        "plt.xlabel('alpha')\n",
        "plt.ylabel('score')\n",
        "plt.grid(True)\n",
        "plt.title('score vs. alpha')\n",
        "plt.show()\n",
        "model3_para = opt_a\n",
        "print ('The optimaized alpha and score of Ridge linear is: '), opt_a, max_score"
      ],
      "execution_count": 45,
      "outputs": [
        {
          "output_type": "display_data",
          "data": {
            "image/png": "[encoded data removed]",
            "text/plain": [
              "<Figure size 432x288 with 1 Axes>"
            ]
          },
          "metadata": {
            "tags": [],
            "needs_background": "light"
          }
        },
        {
          "output_type": "stream",
          "text": [
            "The optimaized alpha and score of Ridge linear is: \n"
          ],
          "name": "stdout"
        },
        {
          "output_type": "execute_result",
          "data": {
            "text/plain": [
              "(None, 366.2337713903369, 0.224418736524166)"
            ]
          },
          "metadata": {
            "tags": []
          },
          "execution_count": 45
        }
      ]
    },
    {
      "cell_type": "code",
      "metadata": {
        "id": "nGdALlz74pwn",
        "colab_type": "code",
        "colab": {
          "base_uri": "https://localhost:8080/",
          "height": 50
        },
        "outputId": "1c84e780-7b6e-4d98-ed1d-44aaaabcbb2c"
      },
      "source": [
        "# add the 15% validate data, use the optimal alpha, re-train the model\n",
        "\n",
        "ridge_f = Ridge()\n",
        "ridge_f.set_params(alpha = opt_a)\n",
        "ridge_f.fit(model_train_x, model_train_y)\n",
        "\n",
        "# ridge_f is the Ridge model (linear feature), to be tested with test data."
      ],
      "execution_count": 46,
      "outputs": [
        {
          "output_type": "execute_result",
          "data": {
            "text/plain": [
              "Ridge(alpha=366.2337713903369, copy_X=True, fit_intercept=True, max_iter=None,\n",
              "      normalize=False, random_state=None, solver='auto', tol=0.001)"
            ]
          },
          "metadata": {
            "tags": []
          },
          "execution_count": 46
        }
      ]
    },
    {
      "cell_type": "markdown",
      "metadata": {
        "id": "Gik-NeE25JJB",
        "colab_type": "text"
      },
      "source": [
        "## 4.4 Random Forest"
      ]
    },
    {
      "cell_type": "code",
      "metadata": {
        "id": "bIiJYH5g5FJw",
        "colab_type": "code",
        "colab": {
          "base_uri": "https://localhost:8080/",
          "height": 334
        },
        "outputId": "07707d2f-d194-480a-c4f5-e79e4269d839"
      },
      "source": [
        "from sklearn.ensemble import RandomForestRegressor\n",
        "from sklearn.model_selection import GridSearchCV\n",
        "rf = RandomForestRegressor(random_state=2, max_features='sqrt',n_jobs = -1)\n",
        "param_grid={'n_estimators':[44,45,46,47,48,49,50,51],'max_depth':[19,20,21,22,23,24,25,26]} \n",
        "clf=GridSearchCV(estimator=rf,param_grid=param_grid,cv=5,refit=True,n_jobs=-1,pre_dispatch='2*n_jobs')\n",
        "clf.fit(model_train_x,model_train_y)"
      ],
      "execution_count": 58,
      "outputs": [
        {
          "output_type": "execute_result",
          "data": {
            "text/plain": [
              "GridSearchCV(cv=5, error_score=nan,\n",
              "             estimator=RandomForestRegressor(bootstrap=True, ccp_alpha=0.0,\n",
              "                                             criterion='mse', max_depth=None,\n",
              "                                             max_features='sqrt',\n",
              "                                             max_leaf_nodes=None,\n",
              "                                             max_samples=None,\n",
              "                                             min_impurity_decrease=0.0,\n",
              "                                             min_impurity_split=None,\n",
              "                                             min_samples_leaf=1,\n",
              "                                             min_samples_split=2,\n",
              "                                             min_weight_fraction_leaf=0.0,\n",
              "                                             n_estimators=100, n_jobs=-1,\n",
              "                                             oob_score=False, random_state=2,\n",
              "                                             verbose=0, warm_start=False),\n",
              "             iid='deprecated', n_jobs=-1,\n",
              "             param_grid={'max_depth': [19, 20, 21, 22, 23, 24, 25, 26],\n",
              "                         'n_estimators': [44, 45, 46, 47, 48, 49, 50, 51]},\n",
              "             pre_dispatch='2*n_jobs', refit=True, return_train_score=False,\n",
              "             scoring=None, verbose=0)"
            ]
          },
          "metadata": {
            "tags": []
          },
          "execution_count": 58
        }
      ]
    },
    {
      "cell_type": "code",
      "metadata": {
        "id": "pAEFDR7G5N1T",
        "colab_type": "code",
        "colab": {
          "base_uri": "https://localhost:8080/",
          "height": 1000
        },
        "outputId": "1feebe0b-e953-4724-e4de-2c1b07f54846"
      },
      "source": [
        "result=clf.cv_results_\n",
        "print(result)\n",
        "max_depth=[19,20,21,22,23,24,25,26]\n",
        "n_estimators=[44,45,46,47,48,49,50,51]\n",
        "scores=clf.cv_results_['mean_test_score'].reshape(len(max_depth),len(n_estimators))\n",
        "plt.figure(1)\n",
        "plt.subplot(1,1,1)\n",
        "for i,j in enumerate(max_depth):\n",
        "  plt.plot(n_estimators,scores[i],'-o',label='max_depths is: '+str(j))\n",
        "plt.legend(bbox_to_anchor=(1.05, 1), loc='upper left', borderaxespad=0.)\n",
        "plt.xlabel('mean_test_score')\n",
        "plt.ylabel('n_estimators')\n",
        "plt.show()\n",
        "print('the best parameter for max_depth is: '+str(clf.best_params_['max_depth']))\n",
        "print('the best parameter for n_estimators is: '+str(clf.best_params_['n_estimators']))"
      ],
      "execution_count": 65,
      "outputs": [
        {
          "output_type": "stream",
          "text": [
            "{'mean_fit_time': array([0.43561735, 0.41788669, 0.43949718, 0.43895721, 0.41757541,\n",
            "       0.40727921, 0.45309381, 0.43831182, 0.33477759, 0.34056215,\n",
            "       0.34337969, 0.34876423, 0.37778301, 0.401513  , 0.41366315,\n",
            "       0.44316912, 0.33293462, 0.34330883, 0.34164462, 0.36221914,\n",
            "       0.38313355, 0.39752345, 0.41357493, 0.4420486 , 0.3403995 ,\n",
            "       0.34170575, 0.34878669, 0.37850714, 0.40127773, 0.42165785,\n",
            "       0.44671392, 0.42120633, 0.41321201, 0.41766205, 0.43653188,\n",
            "       0.43305116, 0.44349251, 0.3861445 , 0.40663638, 0.44210315,\n",
            "       0.33887463, 0.35390329, 0.3715807 , 0.35795975, 0.40379524,\n",
            "       0.44560828, 0.41111598, 0.43315377, 0.3420002 , 0.35236421,\n",
            "       0.42465701, 0.43851433, 0.41419277, 0.43616467, 0.44056878,\n",
            "       0.42177896, 0.41251502, 0.43607354, 0.43535399, 0.43814659,\n",
            "       0.38716836, 0.40889068, 0.4414083 , 0.42772102]), 'std_fit_time': array([0.00426122, 0.03919212, 0.00084079, 0.01179847, 0.04864312,\n",
            "       0.04228628, 0.03590824, 0.01165549, 0.0107061 , 0.01469445,\n",
            "       0.00894147, 0.01143922, 0.04291671, 0.05695301, 0.03697352,\n",
            "       0.01380304, 0.00710338, 0.00796092, 0.0034221 , 0.04061945,\n",
            "       0.05506066, 0.04809517, 0.05578282, 0.01048142, 0.01209055,\n",
            "       0.00428683, 0.0100844 , 0.05072718, 0.0464631 , 0.02871802,\n",
            "       0.01664258, 0.04458466, 0.0358269 , 0.02852387, 0.00765813,\n",
            "       0.008904  , 0.01596792, 0.05703851, 0.0466672 , 0.01406267,\n",
            "       0.01125083, 0.01059708, 0.03797275, 0.04415143, 0.04564238,\n",
            "       0.01529597, 0.04508955, 0.0519734 , 0.01132116, 0.01296118,\n",
            "       0.03404279, 0.00515565, 0.02942208, 0.03191421, 0.0088484 ,\n",
            "       0.04240244, 0.03118708, 0.00971983, 0.01118661, 0.0093625 ,\n",
            "       0.05533859, 0.05694392, 0.02323711, 0.04337188]), 'mean_score_time': array([0.10367951, 0.10362496, 0.10375981, 0.10442271, 0.10815368,\n",
            "       0.10952058, 0.10460339, 0.10830011, 0.10822883, 0.11042452,\n",
            "       0.10777383, 0.1102428 , 0.10730186, 0.10862465, 0.10843735,\n",
            "       0.11143613, 0.1113111 , 0.10829334, 0.11037469, 0.11069298,\n",
            "       0.10885053, 0.11014075, 0.11072788, 0.1071485 , 0.10977459,\n",
            "       0.11149902, 0.11294837, 0.10910211, 0.10694475, 0.10918789,\n",
            "       0.10851355, 0.1073391 , 0.10623164, 0.10895205, 0.10620637,\n",
            "       0.11068015, 0.11077886, 0.10811033, 0.10965419, 0.10996542,\n",
            "       0.10970321, 0.10958171, 0.11164904, 0.11225719, 0.10961089,\n",
            "       0.10591359, 0.10852933, 0.1110683 , 0.10813918, 0.10865731,\n",
            "       0.10866547, 0.10604544, 0.11324821, 0.1083519 , 0.10979342,\n",
            "       0.11157436, 0.1089674 , 0.11066308, 0.10702467, 0.11186023,\n",
            "       0.1104845 , 0.10740242, 0.10950208, 0.10622573]), 'std_score_time': array([0.00021749, 0.00037815, 0.00040399, 0.00164956, 0.00449904,\n",
            "       0.00396762, 0.00188579, 0.00427177, 0.00458934, 0.00271169,\n",
            "       0.0021853 , 0.00492109, 0.00398885, 0.00312037, 0.00362783,\n",
            "       0.00630677, 0.00489838, 0.00516671, 0.00465468, 0.00461427,\n",
            "       0.00523381, 0.00573554, 0.0049806 , 0.00362253, 0.00371997,\n",
            "       0.00163632, 0.00242552, 0.00410031, 0.00443946, 0.00478652,\n",
            "       0.00520146, 0.00233539, 0.00335022, 0.00586465, 0.003824  ,\n",
            "       0.00582583, 0.00467181, 0.00314061, 0.00441602, 0.00350403,\n",
            "       0.00455397, 0.0031131 , 0.0053869 , 0.00343412, 0.0040676 ,\n",
            "       0.00326457, 0.003038  , 0.00257526, 0.00367993, 0.0036864 ,\n",
            "       0.00388662, 0.00207668, 0.00506455, 0.00291852, 0.00590684,\n",
            "       0.00329217, 0.00508681, 0.00748379, 0.00429459, 0.00420405,\n",
            "       0.0052634 , 0.00310789, 0.00350514, 0.00299272]), 'param_max_depth': masked_array(data=[19, 19, 19, 19, 19, 19, 19, 19, 20, 20, 20, 20, 20, 20,\n",
            "                   20, 20, 21, 21, 21, 21, 21, 21, 21, 21, 22, 22, 22, 22,\n",
            "                   22, 22, 22, 22, 23, 23, 23, 23, 23, 23, 23, 23, 24, 24,\n",
            "                   24, 24, 24, 24, 24, 24, 25, 25, 25, 25, 25, 25, 25, 25,\n",
            "                   26, 26, 26, 26, 26, 26, 26, 26],\n",
            "             mask=[False, False, False, False, False, False, False, False,\n",
            "                   False, False, False, False, False, False, False, False,\n",
            "                   False, False, False, False, False, False, False, False,\n",
            "                   False, False, False, False, False, False, False, False,\n",
            "                   False, False, False, False, False, False, False, False,\n",
            "                   False, False, False, False, False, False, False, False,\n",
            "                   False, False, False, False, False, False, False, False,\n",
            "                   False, False, False, False, False, False, False, False],\n",
            "       fill_value='?',\n",
            "            dtype=object), 'param_n_estimators': masked_array(data=[44, 45, 46, 47, 48, 49, 50, 51, 44, 45, 46, 47, 48, 49,\n",
            "                   50, 51, 44, 45, 46, 47, 48, 49, 50, 51, 44, 45, 46, 47,\n",
            "                   48, 49, 50, 51, 44, 45, 46, 47, 48, 49, 50, 51, 44, 45,\n",
            "                   46, 47, 48, 49, 50, 51, 44, 45, 46, 47, 48, 49, 50, 51,\n",
            "                   44, 45, 46, 47, 48, 49, 50, 51],\n",
            "             mask=[False, False, False, False, False, False, False, False,\n",
            "                   False, False, False, False, False, False, False, False,\n",
            "                   False, False, False, False, False, False, False, False,\n",
            "                   False, False, False, False, False, False, False, False,\n",
            "                   False, False, False, False, False, False, False, False,\n",
            "                   False, False, False, False, False, False, False, False,\n",
            "                   False, False, False, False, False, False, False, False,\n",
            "                   False, False, False, False, False, False, False, False],\n",
            "       fill_value='?',\n",
            "            dtype=object), 'params': [{'max_depth': 19, 'n_estimators': 44}, {'max_depth': 19, 'n_estimators': 45}, {'max_depth': 19, 'n_estimators': 46}, {'max_depth': 19, 'n_estimators': 47}, {'max_depth': 19, 'n_estimators': 48}, {'max_depth': 19, 'n_estimators': 49}, {'max_depth': 19, 'n_estimators': 50}, {'max_depth': 19, 'n_estimators': 51}, {'max_depth': 20, 'n_estimators': 44}, {'max_depth': 20, 'n_estimators': 45}, {'max_depth': 20, 'n_estimators': 46}, {'max_depth': 20, 'n_estimators': 47}, {'max_depth': 20, 'n_estimators': 48}, {'max_depth': 20, 'n_estimators': 49}, {'max_depth': 20, 'n_estimators': 50}, {'max_depth': 20, 'n_estimators': 51}, {'max_depth': 21, 'n_estimators': 44}, {'max_depth': 21, 'n_estimators': 45}, {'max_depth': 21, 'n_estimators': 46}, {'max_depth': 21, 'n_estimators': 47}, {'max_depth': 21, 'n_estimators': 48}, {'max_depth': 21, 'n_estimators': 49}, {'max_depth': 21, 'n_estimators': 50}, {'max_depth': 21, 'n_estimators': 51}, {'max_depth': 22, 'n_estimators': 44}, {'max_depth': 22, 'n_estimators': 45}, {'max_depth': 22, 'n_estimators': 46}, {'max_depth': 22, 'n_estimators': 47}, {'max_depth': 22, 'n_estimators': 48}, {'max_depth': 22, 'n_estimators': 49}, {'max_depth': 22, 'n_estimators': 50}, {'max_depth': 22, 'n_estimators': 51}, {'max_depth': 23, 'n_estimators': 44}, {'max_depth': 23, 'n_estimators': 45}, {'max_depth': 23, 'n_estimators': 46}, {'max_depth': 23, 'n_estimators': 47}, {'max_depth': 23, 'n_estimators': 48}, {'max_depth': 23, 'n_estimators': 49}, {'max_depth': 23, 'n_estimators': 50}, {'max_depth': 23, 'n_estimators': 51}, {'max_depth': 24, 'n_estimators': 44}, {'max_depth': 24, 'n_estimators': 45}, {'max_depth': 24, 'n_estimators': 46}, {'max_depth': 24, 'n_estimators': 47}, {'max_depth': 24, 'n_estimators': 48}, {'max_depth': 24, 'n_estimators': 49}, {'max_depth': 24, 'n_estimators': 50}, {'max_depth': 24, 'n_estimators': 51}, {'max_depth': 25, 'n_estimators': 44}, {'max_depth': 25, 'n_estimators': 45}, {'max_depth': 25, 'n_estimators': 46}, {'max_depth': 25, 'n_estimators': 47}, {'max_depth': 25, 'n_estimators': 48}, {'max_depth': 25, 'n_estimators': 49}, {'max_depth': 25, 'n_estimators': 50}, {'max_depth': 25, 'n_estimators': 51}, {'max_depth': 26, 'n_estimators': 44}, {'max_depth': 26, 'n_estimators': 45}, {'max_depth': 26, 'n_estimators': 46}, {'max_depth': 26, 'n_estimators': 47}, {'max_depth': 26, 'n_estimators': 48}, {'max_depth': 26, 'n_estimators': 49}, {'max_depth': 26, 'n_estimators': 50}, {'max_depth': 26, 'n_estimators': 51}], 'split0_test_score': array([0.42426693, 0.4230958 , 0.42594582, 0.42233689, 0.42032993,\n",
            "       0.4245807 , 0.41994907, 0.41950894, 0.47057395, 0.47110712,\n",
            "       0.47567166, 0.47874933, 0.4806683 , 0.48291613, 0.48288748,\n",
            "       0.48005709, 0.44195193, 0.44265764, 0.44908592, 0.443077  ,\n",
            "       0.44419786, 0.44746078, 0.44371215, 0.44178713, 0.43942821,\n",
            "       0.442161  , 0.44571689, 0.44987648, 0.44499114, 0.44990999,\n",
            "       0.44627312, 0.44094022, 0.46913844, 0.47086545, 0.47675084,\n",
            "       0.47322257, 0.47004768, 0.47446804, 0.46860545, 0.46843212,\n",
            "       0.44259712, 0.44572428, 0.45119039, 0.44688133, 0.44856253,\n",
            "       0.45109829, 0.44808538, 0.4473918 , 0.45141307, 0.44893072,\n",
            "       0.44894187, 0.44492781, 0.44159972, 0.44636547, 0.44701647,\n",
            "       0.44959431, 0.4077906 , 0.40833021, 0.4113895 , 0.41663145,\n",
            "       0.41236437, 0.41841904, 0.41878403, 0.41953944]), 'split1_test_score': array([0.58019938, 0.58759602, 0.58669576, 0.58733633, 0.58964854,\n",
            "       0.59483015, 0.59449183, 0.59359655, 0.5716882 , 0.5751622 ,\n",
            "       0.57423879, 0.57466005, 0.57164223, 0.57289041, 0.57233866,\n",
            "       0.57080371, 0.56224592, 0.55999412, 0.55994929, 0.5609144 ,\n",
            "       0.56456387, 0.57076325, 0.56910564, 0.56754821, 0.58751817,\n",
            "       0.59306279, 0.59265065, 0.59529451, 0.5944842 , 0.5993251 ,\n",
            "       0.60192505, 0.60196026, 0.59469201, 0.59897667, 0.59765698,\n",
            "       0.59730854, 0.5981117 , 0.60296757, 0.5997118 , 0.59831637,\n",
            "       0.62603626, 0.62318474, 0.62218883, 0.62449405, 0.6235273 ,\n",
            "       0.62835376, 0.62653346, 0.62486645, 0.54050491, 0.54012597,\n",
            "       0.54000778, 0.54136533, 0.54238192, 0.54811083, 0.5485677 ,\n",
            "       0.54913627, 0.5720538 , 0.57553028, 0.57523783, 0.57586981,\n",
            "       0.57290712, 0.57755552, 0.579982  , 0.57969252]), 'split2_test_score': array([0.36267241, 0.36453137, 0.36476542, 0.36754269, 0.36446243,\n",
            "       0.36779788, 0.37234137, 0.37044426, 0.36562247, 0.36793437,\n",
            "       0.36585809, 0.36138609, 0.36085903, 0.35865593, 0.35924876,\n",
            "       0.36008076, 0.3788994 , 0.38008982, 0.38235175, 0.38469399,\n",
            "       0.38281219, 0.38196007, 0.37998448, 0.38493038, 0.41029338,\n",
            "       0.41088511, 0.40736908, 0.40481522, 0.41030965, 0.41189858,\n",
            "       0.41062247, 0.4064166 , 0.37027798, 0.3720165 , 0.37179532,\n",
            "       0.37044885, 0.37128528, 0.37060683, 0.3726532 , 0.37137864,\n",
            "       0.39201177, 0.39290566, 0.38809938, 0.38250498, 0.38313263,\n",
            "       0.384077  , 0.38725505, 0.38993611, 0.3721199 , 0.37318133,\n",
            "       0.37283781, 0.37114021, 0.37092562, 0.37196972, 0.36977515,\n",
            "       0.36922698, 0.37093445, 0.37260474, 0.37001682, 0.37191377,\n",
            "       0.37338879, 0.37702045, 0.37705985, 0.374467  ]), 'split3_test_score': array([0.62824459, 0.62627923, 0.62730715, 0.62511873, 0.62740278,\n",
            "       0.62828469, 0.62871111, 0.6254769 , 0.63487752, 0.6329497 ,\n",
            "       0.63323156, 0.6357092 , 0.64061951, 0.63950085, 0.63704888,\n",
            "       0.63321176, 0.55053113, 0.55056765, 0.55249902, 0.54770379,\n",
            "       0.54650406, 0.54773428, 0.54656961, 0.54544469, 0.59937839,\n",
            "       0.59737174, 0.59971706, 0.60345619, 0.59862607, 0.59990052,\n",
            "       0.59816107, 0.59454823, 0.59537661, 0.59581702, 0.59707592,\n",
            "       0.60295275, 0.60115495, 0.59919209, 0.59985783, 0.59669954,\n",
            "       0.6137407 , 0.61316753, 0.61283012, 0.6137543 , 0.61732571,\n",
            "       0.61707278, 0.61613462, 0.61303096, 0.62246559, 0.6213047 ,\n",
            "       0.61783101, 0.61701807, 0.6192301 , 0.6185116 , 0.61519448,\n",
            "       0.61091347, 0.59007266, 0.58939476, 0.59093555, 0.59148869,\n",
            "       0.59292615, 0.59134771, 0.59313286, 0.58876654]), 'split4_test_score': array([0.27709129, 0.28664689, 0.28070045, 0.28196065, 0.28816135,\n",
            "       0.28240668, 0.27889979, 0.2850199 , 0.17698406, 0.18262496,\n",
            "       0.1778064 , 0.17624085, 0.18778406, 0.18132822, 0.17452611,\n",
            "       0.16864628, 0.28501446, 0.29199435, 0.28670139, 0.2924007 ,\n",
            "       0.29530018, 0.28807348, 0.299126  , 0.3039215 , 0.25644364,\n",
            "       0.25768503, 0.25331369, 0.26231662, 0.26702109, 0.26083613,\n",
            "       0.27177991, 0.27079536, 0.25988514, 0.25832572, 0.2509316 ,\n",
            "       0.24365912, 0.24682939, 0.24216813, 0.25604888, 0.2568466 ,\n",
            "       0.27955738, 0.28046094, 0.27390156, 0.27440904, 0.2759836 ,\n",
            "       0.26859745, 0.2757993 , 0.28327862, 0.30366511, 0.29755899,\n",
            "       0.29117304, 0.29714893, 0.28876082, 0.2797599 , 0.29220408,\n",
            "       0.29847342, 0.28279073, 0.28472542, 0.27821344, 0.27360866,\n",
            "       0.27334217, 0.26388282, 0.26149092, 0.2663215 ]), 'mean_test_score': array([0.45449492, 0.45762986, 0.45708292, 0.45685906, 0.458001  ,\n",
            "       0.45958002, 0.45887863, 0.45880931, 0.44394924, 0.44595567,\n",
            "       0.4453613 , 0.4453491 , 0.44831462, 0.44705831, 0.44520998,\n",
            "       0.44255992, 0.44372857, 0.44506072, 0.44611748, 0.44575798,\n",
            "       0.44667563, 0.44719837, 0.44769958, 0.44872638, 0.45861236,\n",
            "       0.46023313, 0.45975348, 0.4631518 , 0.46308643, 0.46437406,\n",
            "       0.46575232, 0.46293213, 0.45787404, 0.45920027, 0.45884213,\n",
            "       0.45751837, 0.4574858 , 0.45788053, 0.45937543, 0.45833465,\n",
            "       0.47078865, 0.47108863, 0.46964206, 0.46840874, 0.46970635,\n",
            "       0.46983986, 0.47076156, 0.47170079, 0.45803372, 0.45622034,\n",
            "       0.4541583 , 0.45432007, 0.45257963, 0.4529435 , 0.45455158,\n",
            "       0.45546889, 0.44472845, 0.44611708, 0.44515863, 0.44590248,\n",
            "       0.44498572, 0.44564511, 0.44608993, 0.4457574 ]), 'std_test_score': array([0.1317632 , 0.12994531, 0.13143713, 0.13045634, 0.13041635,\n",
            "       0.13250899, 0.13313948, 0.130768  , 0.16179321, 0.15982745,\n",
            "       0.16169709, 0.1634276 , 0.16047572, 0.16283802, 0.16434266,\n",
            "       0.1649437 , 0.1047371 , 0.10197814, 0.10369482, 0.10090431,\n",
            "       0.10085887, 0.10483567, 0.10118306, 0.09854907, 0.12649643,\n",
            "       0.12667934, 0.12869343, 0.12732728, 0.1242504 , 0.12725547,\n",
            "       0.12419269, 0.12429466, 0.13009664, 0.13136913, 0.13379297,\n",
            "       0.13729964, 0.13592713, 0.13816142, 0.13294903, 0.13190941,\n",
            "       0.13274567, 0.13146443, 0.13347461, 0.13488271, 0.13485024,\n",
            "       0.13784717, 0.1348303 , 0.13131126, 0.11409997, 0.11525193,\n",
            "       0.11607181, 0.11467989, 0.11786549, 0.12088193, 0.11682954,\n",
            "       0.11406695, 0.11863429, 0.1184529 , 0.12068873, 0.12174   ,\n",
            "       0.1215747 , 0.12419158, 0.12580642, 0.12357764]), 'rank_test_score': array([36, 28, 31, 32, 25, 16, 19, 21, 62, 50, 55, 56, 42, 45, 57, 64, 63,\n",
            "       59, 47, 52, 46, 44, 43, 41, 22, 14, 15, 11, 12, 10,  9, 13, 27, 18,\n",
            "       20, 29, 30, 26, 17, 23,  3,  2,  7,  8,  6,  5,  4,  1, 24, 33, 38,\n",
            "       37, 40, 39, 35, 34, 61, 48, 58, 51, 60, 54, 49, 53], dtype=int32)}\n"
          ],
          "name": "stdout"
        },
        {
          "output_type": "display_data",
          "data": {
            "image/png": "[encoded data removed]",
            "text/plain": [
              "<Figure size 432x288 with 1 Axes>"
            ]
          },
          "metadata": {
            "tags": [],
            "needs_background": "light"
          }
        },
        {
          "output_type": "stream",
          "text": [
            "the best parameter for max_depth is: 24\n",
            "the best parameter for n_estimators is: 51\n"
          ],
          "name": "stdout"
        }
      ]
    },
    {
      "cell_type": "markdown",
      "metadata": {
        "id": "dzaCQNuC5pjL",
        "colab_type": "text"
      },
      "source": [
        "# Part 5 Model Evaluation"
      ]
    },
    {
      "cell_type": "code",
      "metadata": {
        "id": "-rf8LJg_5v5c",
        "colab_type": "code",
        "colab": {}
      },
      "source": [
        "train_x = model_train_x\n",
        "train_y = model_train_y\n",
        "test_x = model_test_x\n",
        "test_y = model_test_y"
      ],
      "execution_count": 0,
      "outputs": []
    },
    {
      "cell_type": "code",
      "metadata": {
        "id": "j7amCJVq6C-y",
        "colab_type": "code",
        "colab": {
          "base_uri": "https://localhost:8080/",
          "height": 67
        },
        "outputId": "26e964a5-adcc-4cc7-ce2b-47e954841d97"
      },
      "source": [
        "#For lasso\n",
        "from sklearn.linear_model import Lasso\n",
        "from sklearn.metrics import  mean_squared_error\n",
        "lasso=Lasso(alpha=model1_para)\n",
        "lasso.fit(train_x,train_y)\n",
        "pred_y=lasso.predict(test_x)\n",
        "lasso_score=lasso.score(test_x,test_y)\n",
        "MSE_lasso=mean_squared_error(test_y,pred_y)\n",
        "RMSE_lasso=np.sqrt(MSE_lasso)\n",
        "print ('lasso score: ', lasso_score)\n",
        "print ('Mean square error of lasso: ', MSE_lasso)\n",
        "print ('Root mean squared error of lasso:', RMSE_lasso)"
      ],
      "execution_count": 66,
      "outputs": [
        {
          "output_type": "stream",
          "text": [
            "lasso score:  0.11429875594719996\n",
            "Mean square error of lasso:  194075701.878322\n",
            "Root mean squared error of lasso: 13931.105551187315\n"
          ],
          "name": "stdout"
        }
      ]
    },
    {
      "cell_type": "code",
      "metadata": {
        "id": "XQExDKeG6FXd",
        "colab_type": "code",
        "colab": {
          "base_uri": "https://localhost:8080/",
          "height": 67
        },
        "outputId": "82b1a1db-ba5f-4971-cf47-1f07eaf555cd"
      },
      "source": [
        "#for ridge\n",
        "from sklearn.metrics import  mean_squared_error\n",
        "ridge=Ridge(alpha=model3_para)\n",
        "ridge.fit(train_x,train_y)\n",
        "pred_y=ridge.predict(test_x)\n",
        "ridge_score=ridge.score(test_x,test_y)\n",
        "MSE_ridge=mean_squared_error(test_y,pred_y)\n",
        "RMSE_ridge=np.sqrt(MSE_ridge)\n",
        "print ('ridge score: ', ridge_score)\n",
        "print ('Mean square error of ridge: ', MSE_ridge)\n",
        "print ('Root mean squared error of ridge:', RMSE_ridge)"
      ],
      "execution_count": 67,
      "outputs": [
        {
          "output_type": "stream",
          "text": [
            "ridge score:  0.14259055997020598\n",
            "Mean square error of ridge:  187876374.7801188\n",
            "Root mean squared error of ridge: 13706.800311528537\n"
          ],
          "name": "stdout"
        }
      ]
    },
    {
      "cell_type": "code",
      "metadata": {
        "id": "JTQI7ZW16H4F",
        "colab_type": "code",
        "colab": {
          "base_uri": "https://localhost:8080/",
          "height": 67
        },
        "outputId": "b3c989aa-0c7b-4f54-d140-1ca6b77004ec"
      },
      "source": [
        "#For randomforest regression\n",
        "from sklearn.ensemble import RandomForestRegressor\n",
        "rf=RandomForestRegressor(n_estimators=clf.best_params_['n_estimators'],max_depth=clf.best_params_['max_depth'],max_features='sqrt',random_state=2,n_jobs=-1)\n",
        "rf.fit(train_x,train_y)\n",
        "pred_y=rf.predict(test_x)\n",
        "rf_score=rf.score(test_x,test_y)\n",
        "MSE_rf=mean_squared_error(test_y,pred_y)\n",
        "RMSE_rf=np.sqrt(MSE_rf)\n",
        "print ('rf score: ', rf_score)\n",
        "print ('Mean square error of rf: ', MSE_rf)\n",
        "print ('Root mean squared error of rf:', RMSE_rf)"
      ],
      "execution_count": 68,
      "outputs": [
        {
          "output_type": "stream",
          "text": [
            "rf score:  0.5141781211083458\n",
            "Mean square error of rf:  106453753.75370045\n",
            "Root mean squared error of rf: 10317.642839025804\n"
          ],
          "name": "stdout"
        }
      ]
    },
    {
      "cell_type": "markdown",
      "metadata": {
        "id": "ggPLa7Os7aUp",
        "colab_type": "text"
      },
      "source": [
        "## 5.1 Model Comparision"
      ]
    },
    {
      "cell_type": "code",
      "metadata": {
        "id": "EelXUeGb7pPQ",
        "colab_type": "code",
        "colab": {
          "base_uri": "https://localhost:8080/",
          "height": 832
        },
        "outputId": "de7006df-5e60-4496-ef6c-07d91aefcad1"
      },
      "source": [
        "lst_score = [lasso_score, ridge_score, rf_score]\n",
        "MSE_lst =  [MSE_lasso, MSE_ridge, MSE_rf]\n",
        "RMSE_lst =  [RMSE_lasso, RMSE_ridge, RMSE_rf]\n",
        "model_lst = ['Lasso_linear', 'Ridge linear', 'Random forest']\n",
        "\n",
        "plt.figure(1)\n",
        "plt.plot(model_lst, lst_score, 'ro')\n",
        "plt.legend(['r-squre / score'])\n",
        "plt.xlabel('model names',fontsize =16)\n",
        "plt.ylabel('score / r square', fontsize =16)\n",
        "plt.grid(True)\n",
        "plt.show()\n",
        "\n",
        "plt.figure(2)\n",
        "plt.plot(model_lst, MSE_lst, 'g^')\n",
        "plt.legend(['mean square error (MSE)'])\n",
        "plt.xlabel('model names', fontsize =16)\n",
        "plt.ylabel('mean square error', fontsize =16)\n",
        "plt.grid(True)\n",
        "plt.show()\n",
        "\n",
        "plt.figure(3)\n",
        "plt.plot(model_lst, RMSE_lst, 'bs')\n",
        "plt.legend(['root mean square error (RMSE)'])\n",
        "plt.xlabel('model names', fontsize =16)\n",
        "plt.ylabel('root mean square error', fontsize =16)\n",
        "plt.grid(True)\n",
        "plt.show()"
      ],
      "execution_count": 69,
      "outputs": [
        {
          "output_type": "display_data",
          "data": {
            "image/png": "[encoded data removed]",
            "text/plain": [
              "<Figure size 432x288 with 1 Axes>"
            ]
          },
          "metadata": {
            "tags": [],
            "needs_background": "light"
          }
        },
        {
          "output_type": "display_data",
          "data": {
            "image/png": "[encoded data removed]",
            "text/plain": [
              "<Figure size 432x288 with 1 Axes>"
            ]
          },
          "metadata": {
            "tags": [],
            "needs_background": "light"
          }
        },
        {
          "output_type": "display_data",
          "data": {
            "image/png": "[encoded data removed]",
            "text/plain": [
              "<Figure size 432x288 with 1 Axes>"
            ]
          },
          "metadata": {
            "tags": [],
            "needs_background": "light"
          }
        }
      ]
    },
    {
      "cell_type": "markdown",
      "metadata": {
        "id": "9SsyuLcA7f7I",
        "colab_type": "text"
      },
      "source": [
        "## 5.2 Feature Importance"
      ]
    },
    {
      "cell_type": "code",
      "metadata": {
        "id": "6zmbV-lJ6e6R",
        "colab_type": "code",
        "colab": {
          "base_uri": "https://localhost:8080/",
          "height": 407
        },
        "outputId": "dbfb51ee-22f8-4bcc-daad-6f084dba1d9d"
      },
      "source": [
        "importances = rf.feature_importances_\n",
        "feature_name = train_x.columns.values\n",
        "indices = np.argsort(importances)[::-1]\n",
        "plt.figure(1)\n",
        "plt.bar(feature_name[indices[:20]], importances[indices[:20]])\n",
        "plt.xticks(rotation=90)\n",
        "plt.show()"
      ],
      "execution_count": 70,
      "outputs": [
        {
          "output_type": "display_data",
          "data": {
            "image/png": "[encoded data removed]",
            "text/plain": [
              "<Figure size 432x288 with 1 Axes>"
            ]
          },
          "metadata": {
            "tags": [],
            "needs_background": "light"
          }
        }
      ]
    },
    {
      "cell_type": "code",
      "metadata": {
        "id": "h1nf7SI58QJZ",
        "colab_type": "code",
        "colab": {
          "base_uri": "https://localhost:8080/",
          "height": 1000
        },
        "outputId": "8ca5ef3c-5883-40e1-ee64-bc2b6f8dd6d7"
      },
      "source": [
        "a = np.random.uniform(0.1,500,size = 350)\n",
        "print(a)"
      ],
      "execution_count": 63,
      "outputs": [
        {
          "output_type": "stream",
          "text": [
            "[479.01652991 195.21098466 480.50321531 274.46150582 201.51431469\n",
            " 249.67464496 434.33578015 401.29928401 146.30792936  51.62982002\n",
            " 373.70632643 354.82570009 340.51766674 380.5492245  168.18532153\n",
            " 315.08469865  24.508397   289.17461582 315.8419871  333.85591997\n",
            " 346.64493954 102.32468915 318.57284744 277.21886791  15.71936784\n",
            " 227.33552045 353.16120374 245.26786178   1.96347043 374.94342928\n",
            " 444.96714282 431.19466618  84.13996248 298.60426669 310.71156679\n",
            " 402.2068928  442.20127647  32.66691429 313.97413096  95.47125273\n",
            "  54.88498638 287.10814449 418.19337503 450.30372063 345.97339359\n",
            " 353.95980819 182.51630519 455.67444414  16.91753012 100.11819574\n",
            " 128.4776962   79.75597577 288.58425113  63.74904203 248.06031525\n",
            " 375.76427849 482.30597673  33.37550017  59.47762927 461.88142633\n",
            "  98.7303863   32.22024826 145.81495529 260.66151878 426.81069735\n",
            " 230.37017071 117.00046337  58.3991433  495.30400173 102.56401284\n",
            "  12.77487295 171.88915659 112.56740775  33.1985543    6.50517247\n",
            "  94.30467195 166.52281821  90.28613954 448.47473312 453.64636328\n",
            "  47.739245   486.75618049 476.35708646 259.73908476 150.44212515\n",
            " 392.65673051 141.38002835 333.30873833 476.94250248  92.5665112\n",
            " 336.3063384  438.82398912  10.67675494 304.14572049 432.73568749\n",
            " 386.7630048   58.76384312 123.41516032 278.28962883 187.7383061\n",
            " 410.21933395 421.80382689 323.41793581 452.01063882 381.83584514\n",
            "  15.29105167 488.391441   242.09540924 342.8793994  343.68701083\n",
            " 263.93729076 486.89024081 331.8069069  197.42675981 333.27582459\n",
            " 217.8638387  278.9714464  200.50559213 350.24555867  56.43145878\n",
            " 152.27608352  57.54269842 400.133121   469.99075592 396.52378732\n",
            " 482.55843699 159.51389635 337.85152522 173.87672814  75.30786627\n",
            " 474.99710987 451.71733418 182.64459595  82.85996988 242.64161125\n",
            " 367.66646962 400.93788798 356.89293928  80.40868954 163.07794398\n",
            " 342.68891055  86.68577595 101.13320231 145.42733866 441.68519477\n",
            " 365.4584542  179.49542178 202.14852198 227.16552727 175.03832507\n",
            " 181.87221158 141.56871384 257.35012237  16.09388269 106.83643038\n",
            " 479.3005781  451.94421074 464.97124255 243.38648359 126.93682235\n",
            " 107.18480685   4.23401972 107.29553682 284.59070085 139.28693209\n",
            " 272.5147536  342.2565395  277.89325479 316.07877239 451.42367\n",
            " 478.9311346  335.82360715 436.30087087 239.76442373 313.67407612\n",
            " 374.56759539 222.6102632  192.9491321  434.26937514 177.6875955\n",
            " 241.01075977  81.22053772  28.12470378 354.05291909 243.91664413\n",
            " 262.62913818 321.2359865  275.80028539 434.58292901 164.36180941\n",
            " 405.12595871 146.41448712  39.12218707 267.13296334 296.46451329\n",
            " 492.22522083 398.21636281  22.65077228  60.54175802  97.00006959\n",
            "  97.8704466  114.38288705 413.55870857 422.21696908 108.84153841\n",
            " 434.61010279 391.49209847 215.15618398 323.27014007 276.57680863\n",
            "  30.52587417 379.40849138  68.0772532  211.55878476 114.98722458\n",
            " 194.3519955  451.42575993 150.1766092  195.61762942 147.20214664\n",
            "  73.84467965 422.91559557  72.35226506 110.50882039 396.63826629\n",
            " 386.11342402  68.63143228 205.22195573 150.14885308 471.8597015\n",
            " 435.30178851 491.41331534 241.08912567 203.17859305 137.01461475\n",
            " 473.27007017  39.65097037  55.3173542  392.73063727 254.22560865\n",
            " 453.21648721 227.65935835  28.24885713 289.30572703 331.48182383\n",
            " 387.64018357 264.72139648 442.99720838 176.45080032 298.68503179\n",
            "  72.45105958  45.09758335 477.92259493 141.68639582 258.83362694\n",
            " 145.16425773 326.1886239  390.21374118 396.73750974 169.30017024\n",
            " 151.35100477 395.55557838 334.19996216 450.38491003 404.20046873\n",
            " 150.86112898 389.35868681 243.36837391 498.21041028 382.06018924\n",
            " 124.84143283 230.46084674 272.09452661 264.476003   231.91423182\n",
            " 290.53271735 381.11839472 243.23552924 275.55339162 329.09652987\n",
            " 183.42881075 408.74947805 402.55126007  96.66757364  57.78745054\n",
            " 338.55560833  55.01529637 159.16372211 275.43063467   5.38199986\n",
            " 279.76836296 226.29364468 425.35042641 139.98750601  71.33856429\n",
            "  87.17512046 133.36511653 410.19620722 281.4506479  336.88932377\n",
            " 308.45283116   8.51622121 218.67894042 298.91357633  76.63033988\n",
            "   6.63022302  73.78154766 280.72867513  26.13752115 265.21815855\n",
            " 445.90632213 201.26570993 386.39812508  58.02357826  71.58441267\n",
            " 446.57281014 490.4087725  269.35233001 135.50331487 308.02414441\n",
            " 437.0141821   24.00546343  18.84154896 416.09754629 263.8864259\n",
            " 179.24925076 432.43103989 323.37637782  33.6223306  249.68280252\n",
            "  14.52721656 111.33502084 272.55807663 476.5792515  141.78119089\n",
            " 498.39408041 329.01780082 158.86862072 306.96650617  36.74671551\n",
            " 182.30770471  54.20977    369.56991894 230.49279332 123.42037951\n",
            "  31.82390884  95.25234654 369.70838165 119.74694403 131.18596939]\n"
          ],
          "name": "stdout"
        }
      ]
    },
    {
      "cell_type": "code",
      "metadata": {
        "id": "KNxJnhUv7xDI",
        "colab_type": "code",
        "colab": {
          "base_uri": "https://localhost:8080/",
          "height": 1000
        },
        "outputId": "2409b472-e9e7-4533-e748-adc1085be5b7"
      },
      "source": [
        "a = np.logspace(-0.3, 2.5, num=150) #alphas here refers to lambda \n",
        "s = np.empty_like(alphas) \n",
        "print(a)\n",
        "print(s)"
      ],
      "execution_count": 64,
      "outputs": [
        {
          "output_type": "stream",
          "text": [
            "[  0.50118723   0.52334966   0.54649211   0.57065791   0.59589232\n",
            "   0.62224259   0.64975806   0.67849027   0.70849301   0.73982247\n",
            "   0.77253731   0.8066988    0.8423709    0.87962042   0.9185171\n",
            "   0.9591338    1.00154655   1.0458348    1.09208146   1.14037314\n",
            "   1.19080027   1.24345729   1.29844279   1.35585974   1.41581566\n",
            "   1.47842282   1.54379846   1.612065     1.68335028   1.75778779\n",
            "   1.83551691   1.9166832    2.00143865   2.08994197   2.1823589\n",
            "   2.27886249   2.37963346   2.48486051   2.59474067   2.70947973\n",
            "   2.82929253   2.95440343   3.08504672   3.22146703   3.36391983\n",
            "   3.51267188   3.66800172   3.83020022   3.99957111   4.17643156\n",
            "   4.36111276   4.55396053   4.755336     4.96561626   5.18519508\n",
            "   5.41448365   5.65391133   5.90392647   6.16499723   6.43761251\n",
            "   6.72228279   7.01954116   7.32994424   7.65407331   7.99253531\n",
            "   8.34596406   8.71502137   9.10039834   9.50281663   9.92302979\n",
            "  10.36182472  10.8200231   11.29848294  11.79810021  12.31981048\n",
            "  12.8645907   13.43346102  14.02748671  14.64778012  15.29550282\n",
            "  15.97186772  16.67814138  17.41564636  18.1857637   18.98993551\n",
            "  19.82966769  20.7065327   21.62217255  22.57830187  23.57671108\n",
            "  24.6192698   25.70793032  26.84473125  28.03180134  29.27136351\n",
            "  30.56573893  31.91735144  33.32873206  34.80252373  36.34148625\n",
            "  37.94850147  39.62657866  41.37886018  43.20862734  45.11930654\n",
            "  47.11447568  49.19787092  51.37339359  53.64511756  56.01729683\n",
            "  58.49437351  61.08098617  63.78197847  66.60240824  69.54755701\n",
            "  72.62293983  75.83431563  79.187698    82.68936644  86.34587816\n",
            "  90.16408029  94.15112275  98.31447166 102.66192324 107.2016185\n",
            " 111.94205843 116.89211991 122.06107239 127.45859519 133.09479567\n",
            " 138.9802281  145.1259135  151.54336021 158.24458548 165.24213795\n",
            " 172.54912117 180.17921812 188.14671684 196.4665372  205.1542588\n",
            " 214.22615017 223.69919926 233.5911452  243.92051154 254.70664096\n",
            " 265.96973144 277.73087414 290.01209285 302.83638527 316.22776602]\n",
            "[ 5.17602459e-316 -2.81208054e-001 -2.62416107e-001 -2.43624161e-001\n",
            " -2.24832215e-001 -2.06040268e-001 -1.87248322e-001 -1.68456376e-001\n",
            " -1.49664430e-001 -1.30872483e-001 -1.12080537e-001 -9.32885906e-002\n",
            " -7.44966443e-002 -5.57046980e-002 -3.69127517e-002 -1.81208054e-002\n",
            "  6.71140940e-004  1.94630872e-002  3.82550336e-002  5.70469799e-002\n",
            "  7.58389262e-002  9.46308725e-002  1.13422819e-001  1.32214765e-001\n",
            "  1.51006711e-001  1.69798658e-001  1.88590604e-001  2.07382550e-001\n",
            "  2.26174497e-001  2.44966443e-001  2.63758389e-001  2.82550336e-001\n",
            "  3.01342282e-001  3.20134228e-001  3.38926174e-001  3.57718121e-001\n",
            "  3.76510067e-001  3.95302013e-001  4.14093960e-001  4.32885906e-001\n",
            "  4.51677852e-001  4.70469799e-001  4.89261745e-001  5.08053691e-001\n",
            "  5.26845638e-001  5.45637584e-001  5.64429530e-001  5.83221477e-001\n",
            "  6.02013423e-001  6.20805369e-001  6.39597315e-001  6.58389262e-001\n",
            "  6.77181208e-001  6.95973154e-001  7.14765101e-001  7.33557047e-001\n",
            "  7.52348993e-001  7.71140940e-001  7.89932886e-001  8.08724832e-001\n",
            "  8.27516779e-001  8.46308725e-001  8.65100671e-001  8.83892617e-001\n",
            "  9.02684564e-001  9.21476510e-001  9.40268456e-001  9.59060403e-001\n",
            "  9.77852349e-001  9.96644295e-001  1.01543624e+000  1.03422819e+000\n",
            "  1.05302013e+000  1.07181208e+000  1.09060403e+000  1.10939597e+000\n",
            "  1.12818792e+000  1.14697987e+000  1.16577181e+000  1.18456376e+000\n",
            "  1.20335570e+000  1.22214765e+000  1.24093960e+000  1.25973154e+000\n",
            "  1.27852349e+000  1.29731544e+000  1.31610738e+000  1.33489933e+000\n",
            "  1.35369128e+000  1.37248322e+000  1.39127517e+000  1.41006711e+000\n",
            "  1.42885906e+000  1.44765101e+000  1.46644295e+000  1.48523490e+000\n",
            "  1.50402685e+000  1.52281879e+000  1.54161074e+000  1.56040268e+000\n",
            "  1.57919463e+000  1.59798658e+000  1.61677852e+000  1.63557047e+000\n",
            "  1.65436242e+000  1.67315436e+000  1.69194631e+000  1.71073826e+000\n",
            "  1.72953020e+000  1.74832215e+000  1.76711409e+000  1.78590604e+000\n",
            "  1.80469799e+000  1.82348993e+000  1.84228188e+000  1.86107383e+000\n",
            "  1.87986577e+000  1.89865772e+000  1.91744966e+000  1.93624161e+000\n",
            "  1.95503356e+000  1.97382550e+000  1.99261745e+000  2.01140940e+000\n",
            "  2.03020134e+000  2.04899329e+000  2.06778523e+000  2.08657718e+000\n",
            "  2.10536913e+000  2.12416107e+000  2.14295302e+000  2.16174497e+000\n",
            "  2.18053691e+000  2.19932886e+000  2.21812081e+000  2.23691275e+000\n",
            "  2.25570470e+000  2.27449664e+000  2.29328859e+000  2.31208054e+000\n",
            "  2.33087248e+000  2.34966443e+000  2.36845638e+000  2.38724832e+000\n",
            "  2.40604027e+000  2.42483221e+000  2.44362416e+000  2.46241611e+000\n",
            "  2.48120805e+000  2.50000000e+000]\n"
          ],
          "name": "stdout"
        }
      ]
    },
    {
      "cell_type": "code",
      "metadata": {
        "id": "wBlfnq5t8UE3",
        "colab_type": "code",
        "colab": {}
      },
      "source": [
        ""
      ],
      "execution_count": 0,
      "outputs": []
    }
  ]
}